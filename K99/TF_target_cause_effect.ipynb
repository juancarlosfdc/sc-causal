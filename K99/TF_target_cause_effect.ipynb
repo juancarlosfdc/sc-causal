{
 "cells": [
  {
   "cell_type": "markdown",
   "id": "4b686ded-cae5-4cd6-bd0d-9d781f2fae6b",
   "metadata": {},
   "source": [
    "Preliminary analysis using causal inference on single cell data"
   ]
  },
  {
   "cell_type": "code",
   "execution_count": 56,
   "id": "a6f8bede-3605-4946-8c9b-877675328d40",
   "metadata": {},
   "outputs": [],
   "source": [
    "import pandas as pd\n",
    "import numpy\n",
    "import scanpy\n",
    "from collections import Counter"
   ]
  },
  {
   "cell_type": "code",
   "execution_count": 21,
   "id": "072c4e7f-8c4a-4453-b089-31f72a3de9c6",
   "metadata": {},
   "outputs": [],
   "source": [
    "ann_data = scanpy.read_h5ad('preprocessed_adata/Weinreb2020.adata.h5ad')"
   ]
  },
  {
   "cell_type": "code",
   "execution_count": 24,
   "id": "1914b188-2533-4bf1-bf9c-1d4adb895d60",
   "metadata": {},
   "outputs": [
    {
     "data": {
      "text/plain": [
       "AnnData object with n_obs × n_vars = 130887 × 2447\n",
       "    obs: 'Time point', 'Population', 'Annotation', 'Well', 'cell_idx', 'clone_idx'\n",
       "    var: 'gene_id', 'highly_variable'\n",
       "    uns: 'highly_variable_genes_idx'\n",
       "    obsm: 'X_clone', 'X_pca', 'X_spring', 'X_umap'\n",
       "    layers: 'X_scaled'"
      ]
     },
     "execution_count": 24,
     "metadata": {},
     "output_type": "execute_result"
    }
   ],
   "source": [
    "ann_data"
   ]
  },
  {
   "cell_type": "code",
   "execution_count": 31,
   "id": "2f18322d-a15c-4cdf-a3af-d1db33961eb5",
   "metadata": {},
   "outputs": [
    {
     "data": {
      "text/plain": [
       "array([[-0.01457937, -0.01723505, -0.01802866, ..., -0.01229994,\n",
       "        -0.02931115, -0.01147309],\n",
       "       [-0.01457937, -0.01723505, -0.01802866, ..., -0.01229994,\n",
       "        -0.02931115, -0.01147309],\n",
       "       [-0.01457937, -0.01723505, -0.01802866, ..., -0.01229994,\n",
       "        -0.02931115, -0.01147309],\n",
       "       ...,\n",
       "       [-0.01457937, -0.01723505, -0.01802866, ..., -0.01229994,\n",
       "        -0.02931115, -0.01147309],\n",
       "       [-0.01457937, -0.01723505, -0.01802866, ..., -0.01229994,\n",
       "        -0.02931115, -0.01147309],\n",
       "       [-0.01457937, -0.01723505, -0.01802866, ..., -0.01229994,\n",
       "        -0.02931115, -0.01147309]], dtype=float32)"
      ]
     },
     "execution_count": 31,
     "metadata": {},
     "output_type": "execute_result"
    }
   ],
   "source": [
    "ann_data.layers['X_scaled']"
   ]
  },
  {
   "cell_type": "code",
   "execution_count": 41,
   "id": "162d36ad-f45f-46e7-b0f8-c825b9cf7d4c",
   "metadata": {},
   "outputs": [
    {
     "data": {
      "text/html": [
       "<div>\n",
       "<style scoped>\n",
       "    .dataframe tbody tr th:only-of-type {\n",
       "        vertical-align: middle;\n",
       "    }\n",
       "\n",
       "    .dataframe tbody tr th {\n",
       "        vertical-align: top;\n",
       "    }\n",
       "\n",
       "    .dataframe thead th {\n",
       "        text-align: right;\n",
       "    }\n",
       "</style>\n",
       "<table border=\"1\" class=\"dataframe\">\n",
       "  <thead>\n",
       "    <tr style=\"text-align: right;\">\n",
       "      <th></th>\n",
       "      <th>24</th>\n",
       "      <th>41</th>\n",
       "      <th>60</th>\n",
       "      <th>71</th>\n",
       "      <th>77</th>\n",
       "      <th>88</th>\n",
       "      <th>99</th>\n",
       "      <th>148</th>\n",
       "      <th>173</th>\n",
       "      <th>177</th>\n",
       "      <th>...</th>\n",
       "      <th>24398</th>\n",
       "      <th>24416</th>\n",
       "      <th>24499</th>\n",
       "      <th>24504</th>\n",
       "      <th>24506</th>\n",
       "      <th>24507</th>\n",
       "      <th>24520</th>\n",
       "      <th>24525</th>\n",
       "      <th>24530</th>\n",
       "      <th>24536</th>\n",
       "    </tr>\n",
       "  </thead>\n",
       "  <tbody>\n",
       "    <tr>\n",
       "      <th>0</th>\n",
       "      <td>0.0</td>\n",
       "      <td>0.0</td>\n",
       "      <td>0.0</td>\n",
       "      <td>0.0</td>\n",
       "      <td>0.0</td>\n",
       "      <td>0.0</td>\n",
       "      <td>0.0</td>\n",
       "      <td>0.0</td>\n",
       "      <td>0.0</td>\n",
       "      <td>0.0</td>\n",
       "      <td>...</td>\n",
       "      <td>0.0</td>\n",
       "      <td>0.000000</td>\n",
       "      <td>0.0</td>\n",
       "      <td>0.000000</td>\n",
       "      <td>0.0</td>\n",
       "      <td>0.000000</td>\n",
       "      <td>0.0</td>\n",
       "      <td>0.0</td>\n",
       "      <td>0.0</td>\n",
       "      <td>0.0</td>\n",
       "    </tr>\n",
       "    <tr>\n",
       "      <th>1</th>\n",
       "      <td>0.0</td>\n",
       "      <td>0.0</td>\n",
       "      <td>0.0</td>\n",
       "      <td>0.0</td>\n",
       "      <td>0.0</td>\n",
       "      <td>0.0</td>\n",
       "      <td>0.0</td>\n",
       "      <td>0.0</td>\n",
       "      <td>0.0</td>\n",
       "      <td>0.0</td>\n",
       "      <td>...</td>\n",
       "      <td>0.0</td>\n",
       "      <td>1.861461</td>\n",
       "      <td>0.0</td>\n",
       "      <td>0.000000</td>\n",
       "      <td>0.0</td>\n",
       "      <td>0.000000</td>\n",
       "      <td>0.0</td>\n",
       "      <td>0.0</td>\n",
       "      <td>0.0</td>\n",
       "      <td>0.0</td>\n",
       "    </tr>\n",
       "    <tr>\n",
       "      <th>2</th>\n",
       "      <td>0.0</td>\n",
       "      <td>0.0</td>\n",
       "      <td>0.0</td>\n",
       "      <td>0.0</td>\n",
       "      <td>0.0</td>\n",
       "      <td>0.0</td>\n",
       "      <td>0.0</td>\n",
       "      <td>0.0</td>\n",
       "      <td>0.0</td>\n",
       "      <td>0.0</td>\n",
       "      <td>...</td>\n",
       "      <td>0.0</td>\n",
       "      <td>0.481799</td>\n",
       "      <td>0.0</td>\n",
       "      <td>0.481799</td>\n",
       "      <td>0.0</td>\n",
       "      <td>4.336191</td>\n",
       "      <td>0.0</td>\n",
       "      <td>0.0</td>\n",
       "      <td>0.0</td>\n",
       "      <td>0.0</td>\n",
       "    </tr>\n",
       "    <tr>\n",
       "      <th>3</th>\n",
       "      <td>0.0</td>\n",
       "      <td>0.0</td>\n",
       "      <td>0.0</td>\n",
       "      <td>0.0</td>\n",
       "      <td>0.0</td>\n",
       "      <td>0.0</td>\n",
       "      <td>0.0</td>\n",
       "      <td>0.0</td>\n",
       "      <td>0.0</td>\n",
       "      <td>0.0</td>\n",
       "      <td>...</td>\n",
       "      <td>0.0</td>\n",
       "      <td>0.403299</td>\n",
       "      <td>0.0</td>\n",
       "      <td>0.000000</td>\n",
       "      <td>0.0</td>\n",
       "      <td>4.032991</td>\n",
       "      <td>0.0</td>\n",
       "      <td>0.0</td>\n",
       "      <td>0.0</td>\n",
       "      <td>0.0</td>\n",
       "    </tr>\n",
       "    <tr>\n",
       "      <th>4</th>\n",
       "      <td>0.0</td>\n",
       "      <td>0.0</td>\n",
       "      <td>0.0</td>\n",
       "      <td>0.0</td>\n",
       "      <td>0.0</td>\n",
       "      <td>0.0</td>\n",
       "      <td>0.0</td>\n",
       "      <td>0.0</td>\n",
       "      <td>0.0</td>\n",
       "      <td>0.0</td>\n",
       "      <td>...</td>\n",
       "      <td>0.0</td>\n",
       "      <td>1.632407</td>\n",
       "      <td>0.0</td>\n",
       "      <td>0.000000</td>\n",
       "      <td>0.0</td>\n",
       "      <td>0.000000</td>\n",
       "      <td>0.0</td>\n",
       "      <td>0.0</td>\n",
       "      <td>0.0</td>\n",
       "      <td>0.0</td>\n",
       "    </tr>\n",
       "  </tbody>\n",
       "</table>\n",
       "<p>5 rows × 2447 columns</p>\n",
       "</div>"
      ],
      "text/plain": [
       "    24   41   60   71   77   88   99  148  173  177  ...  24398     24416  \\\n",
       "0  0.0  0.0  0.0  0.0  0.0  0.0  0.0  0.0  0.0  0.0  ...    0.0  0.000000   \n",
       "1  0.0  0.0  0.0  0.0  0.0  0.0  0.0  0.0  0.0  0.0  ...    0.0  1.861461   \n",
       "2  0.0  0.0  0.0  0.0  0.0  0.0  0.0  0.0  0.0  0.0  ...    0.0  0.481799   \n",
       "3  0.0  0.0  0.0  0.0  0.0  0.0  0.0  0.0  0.0  0.0  ...    0.0  0.403299   \n",
       "4  0.0  0.0  0.0  0.0  0.0  0.0  0.0  0.0  0.0  0.0  ...    0.0  1.632407   \n",
       "\n",
       "   24499     24504  24506     24507  24520  24525  24530  24536  \n",
       "0    0.0  0.000000    0.0  0.000000    0.0    0.0    0.0    0.0  \n",
       "1    0.0  0.000000    0.0  0.000000    0.0    0.0    0.0    0.0  \n",
       "2    0.0  0.481799    0.0  4.336191    0.0    0.0    0.0    0.0  \n",
       "3    0.0  0.000000    0.0  4.032991    0.0    0.0    0.0    0.0  \n",
       "4    0.0  0.000000    0.0  0.000000    0.0    0.0    0.0    0.0  \n",
       "\n",
       "[5 rows x 2447 columns]"
      ]
     },
     "execution_count": 41,
     "metadata": {},
     "output_type": "execute_result"
    }
   ],
   "source": [
    "ann_data.to_df().head()"
   ]
  },
  {
   "cell_type": "code",
   "execution_count": 59,
   "id": "97d87bdf-b95c-491f-a550-04d1948a1423",
   "metadata": {},
   "outputs": [],
   "source": [
    "c = Counter(ann_data.obs['clone_idx'].dropna().tolist())"
   ]
  },
  {
   "cell_type": "code",
   "execution_count": 71,
   "id": "2672bcf7-189b-4f9a-9ea9-8b15fc628586",
   "metadata": {},
   "outputs": [],
   "source": [
    "top10_clones = [clone[0] for clone in c.most_common(10)]"
   ]
  },
  {
   "cell_type": "code",
   "execution_count": 72,
   "id": "35aba6c4-24ec-4911-8833-895ddf4d6114",
   "metadata": {},
   "outputs": [
    {
     "data": {
      "text/plain": [
       "[1261.0, 2370.0, 5714.0, 292.0, 5209.0, 3345.0, 1843.0, 2256.0, 5150.0, 2673.0]"
      ]
     },
     "execution_count": 72,
     "metadata": {},
     "output_type": "execute_result"
    }
   ],
   "source": [
    "top10_clones"
   ]
  },
  {
   "cell_type": "code",
   "execution_count": 74,
   "id": "40e38fa8-991c-4b2d-8f91-425bfe10e490",
   "metadata": {},
   "outputs": [],
   "source": [
    "# task: get the cells in the three most common clones\n",
    "top10_data = ann_data[ann_data.obs['clone_idx'].isin(top10_clones)].copy()"
   ]
  },
  {
   "cell_type": "code",
   "execution_count": 76,
   "id": "40071dff-d5bd-4701-8c84-5d51da5cfa1c",
   "metadata": {},
   "outputs": [
    {
     "data": {
      "text/plain": [
       "AnnData object with n_obs × n_vars = 1316 × 2447\n",
       "    obs: 'Time point', 'Population', 'Annotation', 'Well', 'cell_idx', 'clone_idx'\n",
       "    var: 'gene_id', 'highly_variable'\n",
       "    uns: 'highly_variable_genes_idx'\n",
       "    obsm: 'X_clone', 'X_pca', 'X_spring', 'X_umap'\n",
       "    layers: 'X_scaled'"
      ]
     },
     "execution_count": 76,
     "metadata": {},
     "output_type": "execute_result"
    }
   ],
   "source": [
    "top10_data"
   ]
  },
  {
   "cell_type": "code",
   "execution_count": 155,
   "id": "eecae4d3-4c6b-4c99-a5cc-e383d76f50cb",
   "metadata": {},
   "outputs": [],
   "source": [
    "mouse_TFs = pd.read_csv('Mus_musculus_TF.txt', sep='\\t')"
   ]
  },
  {
   "cell_type": "code",
   "execution_count": 87,
   "id": "b895be32-c276-4841-99f7-00a31ed56c90",
   "metadata": {},
   "outputs": [],
   "source": [
    "mouse_TF_data = top10_data[:, top10_data.var['gene_id'].isin(mouse_TFs['Symbol'].tolist())]"
   ]
  },
  {
   "cell_type": "code",
   "execution_count": 78,
   "id": "b9792735-deab-46f5-bb89-77bde3e860c4",
   "metadata": {},
   "outputs": [],
   "source": [
    "# need to read a list of transcription factors--maybe the list they used in their analysis. Unfortunately that link is broken, so we'll use a different list: https://www.nature.com/articles/ncomms15089#Abs1"
   ]
  },
  {
   "cell_type": "code",
   "execution_count": 89,
   "id": "f01981fc-1105-498e-981b-4600b0942f74",
   "metadata": {},
   "outputs": [],
   "source": [
    "data = mouse_TF_data"
   ]
  },
  {
   "cell_type": "markdown",
   "id": "44819d25-a145-4cb6-9765-29ed7b105b58",
   "metadata": {},
   "source": [
    "Step 1: find clones that differentially express a transcription factor--I hope this works!"
   ]
  },
  {
   "cell_type": "markdown",
   "id": "37b18fc0-3b0b-4038-86a5-3e0dd3a6e81e",
   "metadata": {},
   "source": [
    "I would make a panel of scatterplots, one scatterplot for each clone. But there are too many transcription factors. Filter for really nicely known ones? Start with just 1!"
   ]
  },
  {
   "cell_type": "code",
   "execution_count": 117,
   "id": "25efccfd-9977-40d0-af01-0f12affd83d3",
   "metadata": {},
   "outputs": [],
   "source": [
    "data = ann_data[ann_data.obs['clone_idx'].isin(top100_clones)].copy()"
   ]
  },
  {
   "cell_type": "code",
   "execution_count": 123,
   "id": "821a25fb-a0ba-4315-84ee-06fc521b1135",
   "metadata": {},
   "outputs": [
    {
     "data": {
      "text/plain": [
       "AnnData object with n_obs × n_vars = 7381 × 2447\n",
       "    obs: 'Time point', 'Population', 'Annotation', 'Well', 'cell_idx', 'clone_idx'\n",
       "    var: 'gene_id', 'highly_variable'\n",
       "    uns: 'highly_variable_genes_idx'\n",
       "    obsm: 'X_clone', 'X_pca', 'X_spring', 'X_umap'\n",
       "    layers: 'X_scaled'"
      ]
     },
     "execution_count": 123,
     "metadata": {},
     "output_type": "execute_result"
    }
   ],
   "source": [
    "data"
   ]
  },
  {
   "cell_type": "code",
   "execution_count": 144,
   "id": "4bef2550-1842-42c1-8330-1264d925ba44",
   "metadata": {},
   "outputs": [
    {
     "data": {
      "text/plain": [
       "0.0"
      ]
     },
     "execution_count": 144,
     "metadata": {},
     "output_type": "execute_result"
    }
   ],
   "source": [
    "single_clone.X.max()"
   ]
  },
  {
   "cell_type": "code",
   "execution_count": 149,
   "id": "471876af-8588-4b2c-94de-8087f775ed2e",
   "metadata": {},
   "outputs": [
    {
     "name": "stdout",
     "output_type": "stream",
     "text": [
      "[0.0, 0.0, 0.0, 0.0, 0.0, 0.0, 0.0, 0.0, 0.0, 0.0, 0.0, 0.0, 0.0, 0.0, 0.0, 0.0, 0.0, 0.0, 0.0, 0.0, 0.0, 0.0, 0.0, 0.0, 0.0, 0.0, 0.0, 0.0, 0.0, 0.0, 0.0, 0.0, 0.0, 0.0, 0.0, 0.0, 0.0, 0.0, 0.0, 0.0, 0.0, 0.0, 0.0, 0.0, 0.0, 0.0, 0.0, 0.0, 0.0, 0.0, 0.0, 0.0, 0.0, 0.0, 0.0, 0.0, 0.0, 0.0, 0.0, 0.0, 0.0, 0.0, 0.0, 0.0, 0.0, 0.0, 0.0, 0.0, 0.0, 0.0, 0.0, 0.0, 0.5328056812286377, 0.0, 0.0, 0.0, 0.0, 0.0, 0.0, 0.0, 0.0, 0.0, 0.0, 0.0, 0.0, 0.0, 0.0, 0.0, 0.0, 0.0, 0.0, 0.0, 0.0, 0.0, 0.0, 0.0, 0.0, 0.0, 0.0, 0.0, 0.0, 0.0, 0.0, 0.0, 0.0]\n",
      "[0.614198625087738, 0.0, 0.0, 0.0, 0.0, 0.0, 0.0, 0.0, 0.0, 0.0, 0.0, 0.0, 0.0, 0.0, 0.0, 0.0, 0.0, 0.0, 0.0, 0.0, 0.0, 0.0, 0.0, 0.0, 0.0, 0.0, 0.0, 0.0, 0.0, 0.0, 0.0, 0.0, 0.0, 0.0, 0.0, 0.0, 0.0, 0.0, 0.0, 0.0, 0.0, 0.0, 0.0, 0.0, 0.0, 0.0, 0.0, 0.0, 0.0, 0.0, 0.0, 0.0, 0.0, 0.0, 0.0, 0.0, 0.0, 0.0, 0.0, 0.0, 0.0, 0.0, 0.0, 0.0, 0.0, 0.0, 0.0, 0.0, 0.0, 0.0, 0.0, 0.0, 0.0, 0.0, 0.0, 0.0, 0.0, 0.0, 0.0, 0.0, 0.0, 0.0, 0.0, 0.0, 0.0, 0.0, 0.0, 0.0, 0.0, 0.0, 0.0, 0.0, 0.0]\n",
      "[1.662095308303833, 0.0, 0.0, 0.0, 0.0, 0.0, 0.0, 0.0, 0.0, 0.0, 0.0, 0.0, 0.0, 0.0, 0.0, 0.0, 0.0, 0.0, 0.0, 0.0, 0.0, 0.0, 0.0, 0.0, 0.0, 0.0, 0.0, 0.0, 0.0, 0.0, 0.0, 0.0, 0.0, 0.0, 0.0, 0.0, 0.0, 0.0, 0.0, 0.0, 0.0, 0.0, 0.0, 0.0, 0.0, 0.0, 0.0, 0.0, 0.0, 0.0, 0.0, 0.0, 0.0, 0.0, 0.0, 0.0, 0.0, 0.0, 0.0, 0.0, 0.0, 0.0, 0.0, 0.0, 0.0, 0.0, 0.0, 0.0, 0.0]\n",
      "[0.0, 0.0, 0.0, 0.0, 0.0, 0.0, 0.0, 0.0, 0.0, 0.0, 0.0, 0.0, 0.0, 0.0, 0.0, 0.0, 0.0, 0.0, 0.0, 0.0, 0.0, 0.0, 0.0, 0.0, 0.0, 0.0, 0.0, 0.0, 0.0, 0.0, 0.0, 0.0, 0.0, 0.0, 0.0, 0.2370511293411255, 0.0, 0.0, 0.0, 0.0, 0.0, 0.0, 0.0, 0.0, 0.0, 0.0, 0.0, 0.0, 0.0, 0.0, 0.0, 0.0, 0.0, 0.0, 0.0, 0.0, 0.0, 0.0, 0.0, 0.0, 0.0, 0.0, 0.0]\n",
      "[0.0, 0.0, 0.0, 0.0, 0.5530737638473511, 0.0, 0.0, 0.0, 0.0, 0.0, 0.0, 0.0, 0.0, 0.0, 0.0, 0.0, 0.0, 0.0, 0.0, 0.0, 0.0, 0.0, 0.0, 0.0, 0.0, 0.0, 0.0, 0.0, 0.0, 0.0, 0.0, 0.0, 0.0, 0.0, 0.0, 0.0, 0.0, 0.0, 0.0, 0.0, 0.0, 0.0, 0.0, 0.0, 0.0, 0.0, 0.0, 0.0, 0.0, 0.0]\n",
      "[0.0, 0.0, 0.0, 0.0, 0.0, 0.0, 0.0, 0.0, 0.0, 0.0, 0.0, 0.0, 0.0, 0.0, 0.0, 0.0, 0.0, 0.0, 0.0, 0.0, 0.0, 1.0065555572509766, 0.0, 0.0, 0.0, 0.0, 0.0, 0.0, 0.0, 0.0, 0.0, 0.0, 0.0, 0.0, 0.0, 0.0, 0.0, 0.0, 0.0, 0.0, 0.0, 0.0, 0.0, 0.0, 0.0, 0.0, 0.0, 0.0, 0.0, 0.0]\n"
     ]
    }
   ],
   "source": [
    "for clone in top100_clones:\n",
    "    single_clone = data[data.obs['clone_idx'] == clone, data.var['gene_id'] == 'Trp63']\n",
    "    if single_clone.X.max() > 0:\n",
    "        print(single_clone.to_df().iloc[:, 0].tolist())"
   ]
  },
  {
   "cell_type": "markdown",
   "id": "2b679618-1819-4157-8cd7-de4748497c23",
   "metadata": {},
   "source": [
    "I'm inclined to do Myc, Sox, or Trp. Zoom in on Trp63"
   ]
  },
  {
   "cell_type": "markdown",
   "id": "1e162072-c00c-46b5-9106-bf1a39f4f011",
   "metadata": {},
   "source": [
    "Trp63 targets https://www.ncbi.nlm.nih.gov/pmc/articles/PMC2413161/ "
   ]
  },
  {
   "cell_type": "code",
   "execution_count": 107,
   "id": "1379ad7c-5ca4-40e6-a199-1d71918cb519",
   "metadata": {},
   "outputs": [],
   "source": [
    "# maybe top ten clones isn't going to work? "
   ]
  },
  {
   "cell_type": "code",
   "execution_count": 110,
   "id": "b469faa4-2f81-45ca-b873-a014b27d1ac7",
   "metadata": {},
   "outputs": [
    {
     "data": {
      "text/plain": [
       "0.39272532"
      ]
     },
     "execution_count": 110,
     "metadata": {},
     "output_type": "execute_result"
    }
   ],
   "source": [
    "top10_data.X.mean()"
   ]
  },
  {
   "cell_type": "code",
   "execution_count": 150,
   "id": "6d962335-46a6-4d3c-a6c5-6394bac9f7f1",
   "metadata": {},
   "outputs": [],
   "source": [
    "# maybe query the data frame that has 100 clones and 160 TFs"
   ]
  },
  {
   "cell_type": "code",
   "execution_count": 156,
   "id": "d3cdd0f4-1d77-4033-a5eb-4c2e3d55dc66",
   "metadata": {},
   "outputs": [],
   "source": [
    "data = ann_data[ann_data.obs.clone_idx.isin(top100_clones), ann_data.var.gene_id.isin(mouse_TFs['Symbol'].tolist())]"
   ]
  },
  {
   "cell_type": "code",
   "execution_count": 157,
   "id": "deb1985b-62bd-45a2-8ea2-6f38f7dbf698",
   "metadata": {},
   "outputs": [
    {
     "data": {
      "text/plain": [
       "View of AnnData object with n_obs × n_vars = 7381 × 161\n",
       "    obs: 'Time point', 'Population', 'Annotation', 'Well', 'cell_idx', 'clone_idx'\n",
       "    var: 'gene_id', 'highly_variable'\n",
       "    uns: 'highly_variable_genes_idx'\n",
       "    obsm: 'X_clone', 'X_pca', 'X_spring', 'X_umap'\n",
       "    layers: 'X_scaled'"
      ]
     },
     "execution_count": 157,
     "metadata": {},
     "output_type": "execute_result"
    }
   ],
   "source": [
    "data"
   ]
  },
  {
   "cell_type": "code",
   "execution_count": 160,
   "id": "693e2c98-96ca-44a3-b99a-a14ccf1b8405",
   "metadata": {},
   "outputs": [],
   "source": [
    "df = data.to_df()"
   ]
  },
  {
   "cell_type": "code",
   "execution_count": 167,
   "id": "eb471356-53fb-4efd-b910-9a81e702c5c9",
   "metadata": {},
   "outputs": [
    {
     "data": {
      "text/plain": [
       "[True,\n",
       " False,\n",
       " False,\n",
       " False,\n",
       " False,\n",
       " True,\n",
       " True,\n",
       " False,\n",
       " False,\n",
       " False,\n",
       " True,\n",
       " True,\n",
       " True,\n",
       " False,\n",
       " False,\n",
       " True,\n",
       " True,\n",
       " True,\n",
       " False,\n",
       " True,\n",
       " True,\n",
       " True,\n",
       " True,\n",
       " False,\n",
       " False,\n",
       " False,\n",
       " False,\n",
       " True,\n",
       " False,\n",
       " False,\n",
       " False,\n",
       " False,\n",
       " True,\n",
       " True,\n",
       " False,\n",
       " False,\n",
       " True,\n",
       " True,\n",
       " False,\n",
       " True,\n",
       " False,\n",
       " False,\n",
       " True,\n",
       " False,\n",
       " False,\n",
       " False,\n",
       " True,\n",
       " False,\n",
       " True,\n",
       " False,\n",
       " True,\n",
       " True,\n",
       " False,\n",
       " False,\n",
       " False,\n",
       " True,\n",
       " False,\n",
       " True,\n",
       " True,\n",
       " False,\n",
       " True,\n",
       " False,\n",
       " True,\n",
       " False,\n",
       " True,\n",
       " True,\n",
       " True,\n",
       " True,\n",
       " True,\n",
       " True,\n",
       " True,\n",
       " True,\n",
       " True,\n",
       " False,\n",
       " True,\n",
       " True,\n",
       " True,\n",
       " True,\n",
       " True,\n",
       " False,\n",
       " True,\n",
       " True,\n",
       " False,\n",
       " False,\n",
       " True,\n",
       " True,\n",
       " True,\n",
       " True,\n",
       " True,\n",
       " False,\n",
       " False,\n",
       " True,\n",
       " True,\n",
       " False,\n",
       " False,\n",
       " False,\n",
       " False,\n",
       " False,\n",
       " False,\n",
       " False,\n",
       " False,\n",
       " False,\n",
       " False,\n",
       " False,\n",
       " False,\n",
       " False,\n",
       " False,\n",
       " True,\n",
       " False,\n",
       " True,\n",
       " False,\n",
       " False,\n",
       " True,\n",
       " True,\n",
       " False,\n",
       " False,\n",
       " False,\n",
       " True,\n",
       " False,\n",
       " False,\n",
       " True,\n",
       " False,\n",
       " True,\n",
       " False,\n",
       " False,\n",
       " True,\n",
       " False,\n",
       " False,\n",
       " False,\n",
       " False,\n",
       " True,\n",
       " False,\n",
       " True,\n",
       " True,\n",
       " False,\n",
       " False,\n",
       " True,\n",
       " True,\n",
       " False,\n",
       " False,\n",
       " False,\n",
       " False,\n",
       " False,\n",
       " True,\n",
       " False,\n",
       " True,\n",
       " False,\n",
       " False,\n",
       " False,\n",
       " True,\n",
       " False,\n",
       " False,\n",
       " True,\n",
       " False,\n",
       " False,\n",
       " False,\n",
       " True,\n",
       " True,\n",
       " False,\n",
       " True,\n",
       " False]"
      ]
     },
     "execution_count": 167,
     "metadata": {},
     "output_type": "execute_result"
    }
   ],
   "source": [
    "(df.astype(bool).sum() > 100).tolist()"
   ]
  },
  {
   "cell_type": "code",
   "execution_count": 171,
   "id": "a1f3df4b-7e54-4203-b9e8-40230c9f9531",
   "metadata": {},
   "outputs": [
    {
     "data": {
      "text/html": [
       "<div>\n",
       "<style scoped>\n",
       "    .dataframe tbody tr th:only-of-type {\n",
       "        vertical-align: middle;\n",
       "    }\n",
       "\n",
       "    .dataframe tbody tr th {\n",
       "        vertical-align: top;\n",
       "    }\n",
       "\n",
       "    .dataframe thead th {\n",
       "        text-align: right;\n",
       "    }\n",
       "</style>\n",
       "<table border=\"1\" class=\"dataframe\">\n",
       "  <thead>\n",
       "    <tr style=\"text-align: right;\">\n",
       "      <th></th>\n",
       "      <th>2374</th>\n",
       "      <th>3087</th>\n",
       "      <th>3089</th>\n",
       "      <th>3512</th>\n",
       "      <th>3528</th>\n",
       "      <th>3574</th>\n",
       "      <th>4583</th>\n",
       "      <th>4584</th>\n",
       "      <th>4585</th>\n",
       "      <th>5328</th>\n",
       "      <th>...</th>\n",
       "      <th>21391</th>\n",
       "      <th>21746</th>\n",
       "      <th>21747</th>\n",
       "      <th>22242</th>\n",
       "      <th>22245</th>\n",
       "      <th>22321</th>\n",
       "      <th>23018</th>\n",
       "      <th>23489</th>\n",
       "      <th>23505</th>\n",
       "      <th>23605</th>\n",
       "    </tr>\n",
       "  </thead>\n",
       "  <tbody>\n",
       "    <tr>\n",
       "      <th>2</th>\n",
       "      <td>0.0</td>\n",
       "      <td>0.0</td>\n",
       "      <td>0.00000</td>\n",
       "      <td>0.000000</td>\n",
       "      <td>0.481799</td>\n",
       "      <td>0.000000</td>\n",
       "      <td>3.372593</td>\n",
       "      <td>0.481799</td>\n",
       "      <td>0.000000</td>\n",
       "      <td>0.0</td>\n",
       "      <td>...</td>\n",
       "      <td>0.481799</td>\n",
       "      <td>0.000000</td>\n",
       "      <td>0.0</td>\n",
       "      <td>0.000000</td>\n",
       "      <td>0.481799</td>\n",
       "      <td>0.0</td>\n",
       "      <td>0.000000</td>\n",
       "      <td>0.000000</td>\n",
       "      <td>0.481799</td>\n",
       "      <td>2.408995</td>\n",
       "    </tr>\n",
       "    <tr>\n",
       "      <th>15</th>\n",
       "      <td>0.0</td>\n",
       "      <td>0.0</td>\n",
       "      <td>0.00000</td>\n",
       "      <td>0.377392</td>\n",
       "      <td>0.000000</td>\n",
       "      <td>0.000000</td>\n",
       "      <td>1.132177</td>\n",
       "      <td>1.132177</td>\n",
       "      <td>0.377392</td>\n",
       "      <td>0.0</td>\n",
       "      <td>...</td>\n",
       "      <td>0.000000</td>\n",
       "      <td>0.000000</td>\n",
       "      <td>0.0</td>\n",
       "      <td>0.000000</td>\n",
       "      <td>0.000000</td>\n",
       "      <td>0.0</td>\n",
       "      <td>0.000000</td>\n",
       "      <td>0.000000</td>\n",
       "      <td>0.000000</td>\n",
       "      <td>1.886962</td>\n",
       "    </tr>\n",
       "    <tr>\n",
       "      <th>16</th>\n",
       "      <td>0.0</td>\n",
       "      <td>0.0</td>\n",
       "      <td>0.00000</td>\n",
       "      <td>0.000000</td>\n",
       "      <td>0.000000</td>\n",
       "      <td>0.000000</td>\n",
       "      <td>2.259615</td>\n",
       "      <td>1.694711</td>\n",
       "      <td>0.000000</td>\n",
       "      <td>0.0</td>\n",
       "      <td>...</td>\n",
       "      <td>1.694711</td>\n",
       "      <td>0.564904</td>\n",
       "      <td>0.0</td>\n",
       "      <td>1.129807</td>\n",
       "      <td>0.000000</td>\n",
       "      <td>0.0</td>\n",
       "      <td>0.564904</td>\n",
       "      <td>0.564904</td>\n",
       "      <td>1.129807</td>\n",
       "      <td>0.564904</td>\n",
       "    </tr>\n",
       "    <tr>\n",
       "      <th>25</th>\n",
       "      <td>0.0</td>\n",
       "      <td>0.0</td>\n",
       "      <td>0.00000</td>\n",
       "      <td>0.356325</td>\n",
       "      <td>0.000000</td>\n",
       "      <td>0.000000</td>\n",
       "      <td>1.068975</td>\n",
       "      <td>0.356325</td>\n",
       "      <td>0.356325</td>\n",
       "      <td>0.0</td>\n",
       "      <td>...</td>\n",
       "      <td>0.178162</td>\n",
       "      <td>0.356325</td>\n",
       "      <td>0.0</td>\n",
       "      <td>0.000000</td>\n",
       "      <td>0.178162</td>\n",
       "      <td>0.0</td>\n",
       "      <td>0.000000</td>\n",
       "      <td>0.000000</td>\n",
       "      <td>0.000000</td>\n",
       "      <td>1.425300</td>\n",
       "    </tr>\n",
       "    <tr>\n",
       "      <th>30</th>\n",
       "      <td>0.0</td>\n",
       "      <td>0.0</td>\n",
       "      <td>0.84396</td>\n",
       "      <td>0.000000</td>\n",
       "      <td>0.000000</td>\n",
       "      <td>0.000000</td>\n",
       "      <td>3.375842</td>\n",
       "      <td>0.843960</td>\n",
       "      <td>0.000000</td>\n",
       "      <td>0.0</td>\n",
       "      <td>...</td>\n",
       "      <td>0.000000</td>\n",
       "      <td>0.000000</td>\n",
       "      <td>0.0</td>\n",
       "      <td>0.000000</td>\n",
       "      <td>0.843960</td>\n",
       "      <td>0.0</td>\n",
       "      <td>0.000000</td>\n",
       "      <td>0.000000</td>\n",
       "      <td>0.000000</td>\n",
       "      <td>0.843960</td>\n",
       "    </tr>\n",
       "    <tr>\n",
       "      <th>...</th>\n",
       "      <td>...</td>\n",
       "      <td>...</td>\n",
       "      <td>...</td>\n",
       "      <td>...</td>\n",
       "      <td>...</td>\n",
       "      <td>...</td>\n",
       "      <td>...</td>\n",
       "      <td>...</td>\n",
       "      <td>...</td>\n",
       "      <td>...</td>\n",
       "      <td>...</td>\n",
       "      <td>...</td>\n",
       "      <td>...</td>\n",
       "      <td>...</td>\n",
       "      <td>...</td>\n",
       "      <td>...</td>\n",
       "      <td>...</td>\n",
       "      <td>...</td>\n",
       "      <td>...</td>\n",
       "      <td>...</td>\n",
       "      <td>...</td>\n",
       "    </tr>\n",
       "    <tr>\n",
       "      <th>128665</th>\n",
       "      <td>0.0</td>\n",
       "      <td>0.0</td>\n",
       "      <td>0.00000</td>\n",
       "      <td>0.000000</td>\n",
       "      <td>1.512743</td>\n",
       "      <td>0.000000</td>\n",
       "      <td>4.538228</td>\n",
       "      <td>0.000000</td>\n",
       "      <td>1.512743</td>\n",
       "      <td>0.0</td>\n",
       "      <td>...</td>\n",
       "      <td>0.000000</td>\n",
       "      <td>0.000000</td>\n",
       "      <td>0.0</td>\n",
       "      <td>0.000000</td>\n",
       "      <td>0.000000</td>\n",
       "      <td>0.0</td>\n",
       "      <td>1.512743</td>\n",
       "      <td>0.000000</td>\n",
       "      <td>0.000000</td>\n",
       "      <td>1.512743</td>\n",
       "    </tr>\n",
       "    <tr>\n",
       "      <th>129010</th>\n",
       "      <td>0.0</td>\n",
       "      <td>0.0</td>\n",
       "      <td>0.00000</td>\n",
       "      <td>0.000000</td>\n",
       "      <td>0.000000</td>\n",
       "      <td>0.984861</td>\n",
       "      <td>0.000000</td>\n",
       "      <td>0.000000</td>\n",
       "      <td>0.000000</td>\n",
       "      <td>0.0</td>\n",
       "      <td>...</td>\n",
       "      <td>0.000000</td>\n",
       "      <td>0.000000</td>\n",
       "      <td>0.0</td>\n",
       "      <td>0.000000</td>\n",
       "      <td>0.000000</td>\n",
       "      <td>0.0</td>\n",
       "      <td>0.000000</td>\n",
       "      <td>0.000000</td>\n",
       "      <td>0.000000</td>\n",
       "      <td>3.939444</td>\n",
       "    </tr>\n",
       "    <tr>\n",
       "      <th>129012</th>\n",
       "      <td>0.0</td>\n",
       "      <td>0.0</td>\n",
       "      <td>0.00000</td>\n",
       "      <td>0.000000</td>\n",
       "      <td>0.000000</td>\n",
       "      <td>0.000000</td>\n",
       "      <td>0.000000</td>\n",
       "      <td>1.686438</td>\n",
       "      <td>0.000000</td>\n",
       "      <td>0.0</td>\n",
       "      <td>...</td>\n",
       "      <td>0.000000</td>\n",
       "      <td>0.000000</td>\n",
       "      <td>0.0</td>\n",
       "      <td>0.000000</td>\n",
       "      <td>0.000000</td>\n",
       "      <td>0.0</td>\n",
       "      <td>0.000000</td>\n",
       "      <td>0.000000</td>\n",
       "      <td>0.000000</td>\n",
       "      <td>0.000000</td>\n",
       "    </tr>\n",
       "    <tr>\n",
       "      <th>130495</th>\n",
       "      <td>0.0</td>\n",
       "      <td>0.0</td>\n",
       "      <td>0.00000</td>\n",
       "      <td>0.000000</td>\n",
       "      <td>0.000000</td>\n",
       "      <td>3.886700</td>\n",
       "      <td>0.000000</td>\n",
       "      <td>1.295567</td>\n",
       "      <td>2.591133</td>\n",
       "      <td>0.0</td>\n",
       "      <td>...</td>\n",
       "      <td>0.000000</td>\n",
       "      <td>0.000000</td>\n",
       "      <td>0.0</td>\n",
       "      <td>1.295567</td>\n",
       "      <td>0.000000</td>\n",
       "      <td>0.0</td>\n",
       "      <td>0.000000</td>\n",
       "      <td>1.295567</td>\n",
       "      <td>0.000000</td>\n",
       "      <td>0.000000</td>\n",
       "    </tr>\n",
       "    <tr>\n",
       "      <th>130659</th>\n",
       "      <td>0.0</td>\n",
       "      <td>0.0</td>\n",
       "      <td>0.00000</td>\n",
       "      <td>0.000000</td>\n",
       "      <td>0.000000</td>\n",
       "      <td>0.000000</td>\n",
       "      <td>1.917887</td>\n",
       "      <td>0.000000</td>\n",
       "      <td>0.000000</td>\n",
       "      <td>0.0</td>\n",
       "      <td>...</td>\n",
       "      <td>0.000000</td>\n",
       "      <td>0.000000</td>\n",
       "      <td>0.0</td>\n",
       "      <td>0.000000</td>\n",
       "      <td>0.000000</td>\n",
       "      <td>0.0</td>\n",
       "      <td>0.000000</td>\n",
       "      <td>0.000000</td>\n",
       "      <td>1.917887</td>\n",
       "      <td>0.000000</td>\n",
       "    </tr>\n",
       "  </tbody>\n",
       "</table>\n",
       "<p>7381 rows × 72 columns</p>\n",
       "</div>"
      ],
      "text/plain": [
       "        2374  3087     3089      3512      3528      3574      4583      4584  \\\n",
       "2        0.0   0.0  0.00000  0.000000  0.481799  0.000000  3.372593  0.481799   \n",
       "15       0.0   0.0  0.00000  0.377392  0.000000  0.000000  1.132177  1.132177   \n",
       "16       0.0   0.0  0.00000  0.000000  0.000000  0.000000  2.259615  1.694711   \n",
       "25       0.0   0.0  0.00000  0.356325  0.000000  0.000000  1.068975  0.356325   \n",
       "30       0.0   0.0  0.84396  0.000000  0.000000  0.000000  3.375842  0.843960   \n",
       "...      ...   ...      ...       ...       ...       ...       ...       ...   \n",
       "128665   0.0   0.0  0.00000  0.000000  1.512743  0.000000  4.538228  0.000000   \n",
       "129010   0.0   0.0  0.00000  0.000000  0.000000  0.984861  0.000000  0.000000   \n",
       "129012   0.0   0.0  0.00000  0.000000  0.000000  0.000000  0.000000  1.686438   \n",
       "130495   0.0   0.0  0.00000  0.000000  0.000000  3.886700  0.000000  1.295567   \n",
       "130659   0.0   0.0  0.00000  0.000000  0.000000  0.000000  1.917887  0.000000   \n",
       "\n",
       "            4585  5328  ...     21391     21746  21747     22242     22245  \\\n",
       "2       0.000000   0.0  ...  0.481799  0.000000    0.0  0.000000  0.481799   \n",
       "15      0.377392   0.0  ...  0.000000  0.000000    0.0  0.000000  0.000000   \n",
       "16      0.000000   0.0  ...  1.694711  0.564904    0.0  1.129807  0.000000   \n",
       "25      0.356325   0.0  ...  0.178162  0.356325    0.0  0.000000  0.178162   \n",
       "30      0.000000   0.0  ...  0.000000  0.000000    0.0  0.000000  0.843960   \n",
       "...          ...   ...  ...       ...       ...    ...       ...       ...   \n",
       "128665  1.512743   0.0  ...  0.000000  0.000000    0.0  0.000000  0.000000   \n",
       "129010  0.000000   0.0  ...  0.000000  0.000000    0.0  0.000000  0.000000   \n",
       "129012  0.000000   0.0  ...  0.000000  0.000000    0.0  0.000000  0.000000   \n",
       "130495  2.591133   0.0  ...  0.000000  0.000000    0.0  1.295567  0.000000   \n",
       "130659  0.000000   0.0  ...  0.000000  0.000000    0.0  0.000000  0.000000   \n",
       "\n",
       "        22321     23018     23489     23505     23605  \n",
       "2         0.0  0.000000  0.000000  0.481799  2.408995  \n",
       "15        0.0  0.000000  0.000000  0.000000  1.886962  \n",
       "16        0.0  0.564904  0.564904  1.129807  0.564904  \n",
       "25        0.0  0.000000  0.000000  0.000000  1.425300  \n",
       "30        0.0  0.000000  0.000000  0.000000  0.843960  \n",
       "...       ...       ...       ...       ...       ...  \n",
       "128665    0.0  1.512743  0.000000  0.000000  1.512743  \n",
       "129010    0.0  0.000000  0.000000  0.000000  3.939444  \n",
       "129012    0.0  0.000000  0.000000  0.000000  0.000000  \n",
       "130495    0.0  0.000000  1.295567  0.000000  0.000000  \n",
       "130659    0.0  0.000000  0.000000  1.917887  0.000000  \n",
       "\n",
       "[7381 rows x 72 columns]"
      ]
     },
     "execution_count": 171,
     "metadata": {},
     "output_type": "execute_result"
    }
   ],
   "source": [
    "df.loc[:, (df.astype(bool).sum() > 100).tolist()]"
   ]
  },
  {
   "cell_type": "code",
   "execution_count": 159,
   "id": "c3455172-2c16-436e-9fc3-2d605a760e2d",
   "metadata": {},
   "outputs": [
    {
     "data": {
      "text/plain": [
       "2374         Ahr\n",
       "2523        Alx4\n",
       "2907      Arid3c\n",
       "2960       Arnt2\n",
       "2996         Arx\n",
       "          ...   \n",
       "23489    Tsc22d1\n",
       "23505      Tshz1\n",
       "23507      Tshz3\n",
       "23605       Ttf1\n",
       "24050       Vax2\n",
       "Name: gene_id, Length: 161, dtype: object"
      ]
     },
     "execution_count": 159,
     "metadata": {},
     "output_type": "execute_result"
    }
   ],
   "source": [
    "# now we want to systematically query differential expression of these T"
   ]
  }
 ],
 "metadata": {
  "kernelspec": {
   "display_name": "Python 3",
   "language": "python",
   "name": "python3"
  },
  "language_info": {
   "codemirror_mode": {
    "name": "ipython",
    "version": 3
   },
   "file_extension": ".py",
   "mimetype": "text/x-python",
   "name": "python",
   "nbconvert_exporter": "python",
   "pygments_lexer": "ipython3",
   "version": "3.8.8"
  }
 },
 "nbformat": 4,
 "nbformat_minor": 5
}
