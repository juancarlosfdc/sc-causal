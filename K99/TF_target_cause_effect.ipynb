{
 "cells": [
  {
   "cell_type": "markdown",
   "id": "4b686ded-cae5-4cd6-bd0d-9d781f2fae6b",
   "metadata": {},
   "source": [
    "Preliminary analysis using causal inference on single cell data\n",
    "=\n",
    "\n",
    "We want to show that having multiple clones can help orient causal edges in single cell data. What this amounts to (cf Petar's K99 grant application) is finding a pair (TF, target) and two clones (1, 2) such that \n",
    "1. P^1 (TF) \\neq P^2(TF) \n",
    "2. P^1(target) \\neq P^2(target)\n",
    "3. P^1(TF|target) \\neq P^2(TF|target)\n",
    "4. P^1(target|TF) = P^2(target|TF)\n",
    "\n",
    "Equivalently, we can test two conditional independence relations using off the shelf methods, where C is a domain variable indexing the clones: condition A target \\independent C | TF and condition B TF \\independent C | target. If A is true and B is not true, we can orient the edge as TF --> target. "
   ]
  },
  {
   "cell_type": "code",
   "execution_count": 435,
   "id": "a6f8bede-3605-4946-8c9b-877675328d40",
   "metadata": {},
   "outputs": [],
   "source": [
    "import pandas as pd\n",
    "import numpy as np\n",
    "import scanpy\n",
    "from collections import Counter\n",
    "from matplotlib import pyplot as plt\n",
    "from scipy import special\n",
    "from scipy import stats"
   ]
  },
  {
   "cell_type": "code",
   "execution_count": 424,
   "id": "072c4e7f-8c4a-4453-b089-31f72a3de9c6",
   "metadata": {},
   "outputs": [],
   "source": [
    "ann_data = scanpy.read_h5ad('preprocessed_adata/Weinreb2020.adata.h5ad')"
   ]
  },
  {
   "cell_type": "markdown",
   "id": "122e70a5-b70a-458c-9740-2253785ada9a",
   "metadata": {},
   "source": [
    "I got this preprocessed data from Michael Vinyard. \n",
    "This anndata object is worth exploring. You can use pandas style indexing and subsetting. The docs have a helpful schematic: https://anndata.readthedocs.io/en/latest/\n",
    "The key piece is a matrix (ann_data.to_df()) where the i, j entry is the (l1) normalized count of copies of gene j transcript in cell i. The ann data object also has series as meta data for both the cells (ann_data.obs[attribute]) and the genes (ann_data.var[attribute])"
   ]
  },
  {
   "cell_type": "code",
   "execution_count": 41,
   "id": "162d36ad-f45f-46e7-b0f8-c825b9cf7d4c",
   "metadata": {
    "collapsed": true,
    "jupyter": {
     "outputs_hidden": true
    },
    "tags": []
   },
   "outputs": [
    {
     "data": {
      "text/html": [
       "<div>\n",
       "<style scoped>\n",
       "    .dataframe tbody tr th:only-of-type {\n",
       "        vertical-align: middle;\n",
       "    }\n",
       "\n",
       "    .dataframe tbody tr th {\n",
       "        vertical-align: top;\n",
       "    }\n",
       "\n",
       "    .dataframe thead th {\n",
       "        text-align: right;\n",
       "    }\n",
       "</style>\n",
       "<table border=\"1\" class=\"dataframe\">\n",
       "  <thead>\n",
       "    <tr style=\"text-align: right;\">\n",
       "      <th></th>\n",
       "      <th>24</th>\n",
       "      <th>41</th>\n",
       "      <th>60</th>\n",
       "      <th>71</th>\n",
       "      <th>77</th>\n",
       "      <th>88</th>\n",
       "      <th>99</th>\n",
       "      <th>148</th>\n",
       "      <th>173</th>\n",
       "      <th>177</th>\n",
       "      <th>...</th>\n",
       "      <th>24398</th>\n",
       "      <th>24416</th>\n",
       "      <th>24499</th>\n",
       "      <th>24504</th>\n",
       "      <th>24506</th>\n",
       "      <th>24507</th>\n",
       "      <th>24520</th>\n",
       "      <th>24525</th>\n",
       "      <th>24530</th>\n",
       "      <th>24536</th>\n",
       "    </tr>\n",
       "  </thead>\n",
       "  <tbody>\n",
       "    <tr>\n",
       "      <th>0</th>\n",
       "      <td>0.0</td>\n",
       "      <td>0.0</td>\n",
       "      <td>0.0</td>\n",
       "      <td>0.0</td>\n",
       "      <td>0.0</td>\n",
       "      <td>0.0</td>\n",
       "      <td>0.0</td>\n",
       "      <td>0.0</td>\n",
       "      <td>0.0</td>\n",
       "      <td>0.0</td>\n",
       "      <td>...</td>\n",
       "      <td>0.0</td>\n",
       "      <td>0.000000</td>\n",
       "      <td>0.0</td>\n",
       "      <td>0.000000</td>\n",
       "      <td>0.0</td>\n",
       "      <td>0.000000</td>\n",
       "      <td>0.0</td>\n",
       "      <td>0.0</td>\n",
       "      <td>0.0</td>\n",
       "      <td>0.0</td>\n",
       "    </tr>\n",
       "    <tr>\n",
       "      <th>1</th>\n",
       "      <td>0.0</td>\n",
       "      <td>0.0</td>\n",
       "      <td>0.0</td>\n",
       "      <td>0.0</td>\n",
       "      <td>0.0</td>\n",
       "      <td>0.0</td>\n",
       "      <td>0.0</td>\n",
       "      <td>0.0</td>\n",
       "      <td>0.0</td>\n",
       "      <td>0.0</td>\n",
       "      <td>...</td>\n",
       "      <td>0.0</td>\n",
       "      <td>1.861461</td>\n",
       "      <td>0.0</td>\n",
       "      <td>0.000000</td>\n",
       "      <td>0.0</td>\n",
       "      <td>0.000000</td>\n",
       "      <td>0.0</td>\n",
       "      <td>0.0</td>\n",
       "      <td>0.0</td>\n",
       "      <td>0.0</td>\n",
       "    </tr>\n",
       "    <tr>\n",
       "      <th>2</th>\n",
       "      <td>0.0</td>\n",
       "      <td>0.0</td>\n",
       "      <td>0.0</td>\n",
       "      <td>0.0</td>\n",
       "      <td>0.0</td>\n",
       "      <td>0.0</td>\n",
       "      <td>0.0</td>\n",
       "      <td>0.0</td>\n",
       "      <td>0.0</td>\n",
       "      <td>0.0</td>\n",
       "      <td>...</td>\n",
       "      <td>0.0</td>\n",
       "      <td>0.481799</td>\n",
       "      <td>0.0</td>\n",
       "      <td>0.481799</td>\n",
       "      <td>0.0</td>\n",
       "      <td>4.336191</td>\n",
       "      <td>0.0</td>\n",
       "      <td>0.0</td>\n",
       "      <td>0.0</td>\n",
       "      <td>0.0</td>\n",
       "    </tr>\n",
       "    <tr>\n",
       "      <th>3</th>\n",
       "      <td>0.0</td>\n",
       "      <td>0.0</td>\n",
       "      <td>0.0</td>\n",
       "      <td>0.0</td>\n",
       "      <td>0.0</td>\n",
       "      <td>0.0</td>\n",
       "      <td>0.0</td>\n",
       "      <td>0.0</td>\n",
       "      <td>0.0</td>\n",
       "      <td>0.0</td>\n",
       "      <td>...</td>\n",
       "      <td>0.0</td>\n",
       "      <td>0.403299</td>\n",
       "      <td>0.0</td>\n",
       "      <td>0.000000</td>\n",
       "      <td>0.0</td>\n",
       "      <td>4.032991</td>\n",
       "      <td>0.0</td>\n",
       "      <td>0.0</td>\n",
       "      <td>0.0</td>\n",
       "      <td>0.0</td>\n",
       "    </tr>\n",
       "    <tr>\n",
       "      <th>4</th>\n",
       "      <td>0.0</td>\n",
       "      <td>0.0</td>\n",
       "      <td>0.0</td>\n",
       "      <td>0.0</td>\n",
       "      <td>0.0</td>\n",
       "      <td>0.0</td>\n",
       "      <td>0.0</td>\n",
       "      <td>0.0</td>\n",
       "      <td>0.0</td>\n",
       "      <td>0.0</td>\n",
       "      <td>...</td>\n",
       "      <td>0.0</td>\n",
       "      <td>1.632407</td>\n",
       "      <td>0.0</td>\n",
       "      <td>0.000000</td>\n",
       "      <td>0.0</td>\n",
       "      <td>0.000000</td>\n",
       "      <td>0.0</td>\n",
       "      <td>0.0</td>\n",
       "      <td>0.0</td>\n",
       "      <td>0.0</td>\n",
       "    </tr>\n",
       "  </tbody>\n",
       "</table>\n",
       "<p>5 rows × 2447 columns</p>\n",
       "</div>"
      ],
      "text/plain": [
       "    24   41   60   71   77   88   99  148  173  177  ...  24398     24416  \\\n",
       "0  0.0  0.0  0.0  0.0  0.0  0.0  0.0  0.0  0.0  0.0  ...    0.0  0.000000   \n",
       "1  0.0  0.0  0.0  0.0  0.0  0.0  0.0  0.0  0.0  0.0  ...    0.0  1.861461   \n",
       "2  0.0  0.0  0.0  0.0  0.0  0.0  0.0  0.0  0.0  0.0  ...    0.0  0.481799   \n",
       "3  0.0  0.0  0.0  0.0  0.0  0.0  0.0  0.0  0.0  0.0  ...    0.0  0.403299   \n",
       "4  0.0  0.0  0.0  0.0  0.0  0.0  0.0  0.0  0.0  0.0  ...    0.0  1.632407   \n",
       "\n",
       "   24499     24504  24506     24507  24520  24525  24530  24536  \n",
       "0    0.0  0.000000    0.0  0.000000    0.0    0.0    0.0    0.0  \n",
       "1    0.0  0.000000    0.0  0.000000    0.0    0.0    0.0    0.0  \n",
       "2    0.0  0.481799    0.0  4.336191    0.0    0.0    0.0    0.0  \n",
       "3    0.0  0.000000    0.0  4.032991    0.0    0.0    0.0    0.0  \n",
       "4    0.0  0.000000    0.0  0.000000    0.0    0.0    0.0    0.0  \n",
       "\n",
       "[5 rows x 2447 columns]"
      ]
     },
     "execution_count": 41,
     "metadata": {},
     "output_type": "execute_result"
    }
   ],
   "source": [
    "ann_data.to_df().head()"
   ]
  },
  {
   "cell_type": "code",
   "execution_count": 425,
   "id": "06eaf29c-5fa0-48eb-85df-af568caa8f58",
   "metadata": {
    "collapsed": true,
    "jupyter": {
     "outputs_hidden": true
    },
    "tags": []
   },
   "outputs": [
    {
     "data": {
      "text/plain": [
       "0          573.0\n",
       "1         1440.0\n",
       "2          394.0\n",
       "3            NaN\n",
       "4         1972.0\n",
       "           ...  \n",
       "130882       NaN\n",
       "130883    1374.0\n",
       "130884       NaN\n",
       "130885       NaN\n",
       "130886       NaN\n",
       "Name: clone_idx, Length: 130887, dtype: float64"
      ]
     },
     "execution_count": 425,
     "metadata": {},
     "output_type": "execute_result"
    }
   ],
   "source": [
    "ann_data.obs['clone_idx']"
   ]
  },
  {
   "cell_type": "code",
   "execution_count": 426,
   "id": "f06277a8-ff55-4144-b90b-aedf7d439a36",
   "metadata": {
    "collapsed": true,
    "jupyter": {
     "outputs_hidden": true
    },
    "tags": []
   },
   "outputs": [
    {
     "data": {
      "text/plain": [
       "24       1110002J07Rik\n",
       "41       1110032F04Rik\n",
       "60       1500002F19Rik\n",
       "71       1500026H17Rik\n",
       "77       1600010M07Rik\n",
       "             ...      \n",
       "24507           Wfdc21\n",
       "24520             Wif1\n",
       "24525            Wisp1\n",
       "24530             Wnk2\n",
       "24536            Wnt11\n",
       "Name: gene_id, Length: 2447, dtype: object"
      ]
     },
     "execution_count": 426,
     "metadata": {},
     "output_type": "execute_result"
    }
   ],
   "source": [
    "ann_data.var['gene_id']"
   ]
  },
  {
   "cell_type": "markdown",
   "id": "1581abb6-5a54-41d7-b51a-7cd28e7954e9",
   "metadata": {},
   "source": [
    "If we want to obtain, for example, the top 10 clones"
   ]
  },
  {
   "cell_type": "code",
   "execution_count": 59,
   "id": "6aa620a7-019b-4e98-9f16-c8fa25a051b9",
   "metadata": {},
   "outputs": [],
   "source": [
    "c = Counter(ann_data.obs['clone_idx'].dropna().tolist())\n",
    "\n",
    "top100_clones = [clone[0] for clone in c.most_common(100)]"
   ]
  },
  {
   "cell_type": "markdown",
   "id": "e63a0383-3c9c-40d2-9a99-9eeb416b0389",
   "metadata": {},
   "source": [
    "We need to read a list of transcription factors--maybe the list they used in their analysis (Weinreb et al 2020). Unfortunately that link is broken, so we'll use a different list: https://www.nature.com/articles/ncomms15089#Abs1"
   ]
  },
  {
   "cell_type": "code",
   "execution_count": 155,
   "id": "4b017ead-7ce9-4f24-85ec-a6828991f40e",
   "metadata": {},
   "outputs": [],
   "source": [
    "mouse_TFs = pd.read_csv('Mus_musculus_TF.txt', sep='\\t')"
   ]
  },
  {
   "cell_type": "markdown",
   "id": "44819d25-a145-4cb6-9765-29ed7b105b58",
   "metadata": {},
   "source": [
    "To simplify our life, let's just focus on these top 100 clones, which range from 48 cells to 177. At n = 48 I still roughly trust we can distinguish between unequal distributions, even though everything is very sparse. n = 20 seems like a stretch. "
   ]
  },
  {
   "cell_type": "code",
   "execution_count": 431,
   "id": "25efccfd-9977-40d0-af01-0f12affd83d3",
   "metadata": {},
   "outputs": [],
   "source": [
    "data = ann_data[ann_data.obs['clone_idx'].isin(top100_clones)].copy()"
   ]
  },
  {
   "cell_type": "code",
   "execution_count": 432,
   "id": "821a25fb-a0ba-4315-84ee-06fc521b1135",
   "metadata": {},
   "outputs": [
    {
     "data": {
      "text/plain": [
       "AnnData object with n_obs × n_vars = 7381 × 2447\n",
       "    obs: 'Time point', 'Population', 'Annotation', 'Well', 'cell_idx', 'clone_idx'\n",
       "    var: 'gene_id', 'highly_variable'\n",
       "    uns: 'highly_variable_genes_idx'\n",
       "    obsm: 'X_clone', 'X_pca', 'X_spring', 'X_umap'\n",
       "    layers: 'X_scaled'"
      ]
     },
     "execution_count": 432,
     "metadata": {},
     "output_type": "execute_result"
    }
   ],
   "source": [
    "data"
   ]
  },
  {
   "cell_type": "markdown",
   "id": "8b778908-b2bb-418a-9de9-d7a247d96d7f",
   "metadata": {},
   "source": [
    "For example, Trp63, in the p53 family, is mostly unexpressed across the board. We wouldn't want to move forward with this TF. "
   ]
  },
  {
   "cell_type": "code",
   "execution_count": 434,
   "id": "f067f3ed-1762-4691-80e1-e0bbdc0d0284",
   "metadata": {
    "collapsed": true,
    "jupyter": {
     "outputs_hidden": true
    },
    "tags": []
   },
   "outputs": [
    {
     "name": "stdout",
     "output_type": "stream",
     "text": [
      "[0.0, 0.0, 0.0, 0.0, 0.0, 0.0, 0.0, 0.0, 0.0, 0.0, 0.0, 0.0, 0.0, 0.0, 0.0, 0.0, 0.0, 0.0, 0.0, 0.0, 0.0, 0.0, 0.0, 0.0, 0.0, 0.0, 0.0, 0.0, 0.0, 0.0, 0.0, 0.0, 0.0, 0.0, 0.0, 0.0, 0.0, 0.0, 0.0, 0.0, 0.0, 0.0, 0.0, 0.0, 0.0, 0.0, 0.0, 0.0, 0.0, 0.0, 0.0, 0.0, 0.0, 0.0, 0.0, 0.0, 0.0, 0.0, 0.0, 0.0, 0.0, 0.0, 0.0, 0.0, 0.0, 0.0, 0.0, 0.0, 0.0, 0.0, 0.0, 0.0, 0.5328056812286377, 0.0, 0.0, 0.0, 0.0, 0.0, 0.0, 0.0, 0.0, 0.0, 0.0, 0.0, 0.0, 0.0, 0.0, 0.0, 0.0, 0.0, 0.0, 0.0, 0.0, 0.0, 0.0, 0.0, 0.0, 0.0, 0.0, 0.0, 0.0, 0.0, 0.0, 0.0, 0.0]\n",
      "[0.614198625087738, 0.0, 0.0, 0.0, 0.0, 0.0, 0.0, 0.0, 0.0, 0.0, 0.0, 0.0, 0.0, 0.0, 0.0, 0.0, 0.0, 0.0, 0.0, 0.0, 0.0, 0.0, 0.0, 0.0, 0.0, 0.0, 0.0, 0.0, 0.0, 0.0, 0.0, 0.0, 0.0, 0.0, 0.0, 0.0, 0.0, 0.0, 0.0, 0.0, 0.0, 0.0, 0.0, 0.0, 0.0, 0.0, 0.0, 0.0, 0.0, 0.0, 0.0, 0.0, 0.0, 0.0, 0.0, 0.0, 0.0, 0.0, 0.0, 0.0, 0.0, 0.0, 0.0, 0.0, 0.0, 0.0, 0.0, 0.0, 0.0, 0.0, 0.0, 0.0, 0.0, 0.0, 0.0, 0.0, 0.0, 0.0, 0.0, 0.0, 0.0, 0.0, 0.0, 0.0, 0.0, 0.0, 0.0, 0.0, 0.0, 0.0, 0.0, 0.0, 0.0]\n",
      "[1.662095308303833, 0.0, 0.0, 0.0, 0.0, 0.0, 0.0, 0.0, 0.0, 0.0, 0.0, 0.0, 0.0, 0.0, 0.0, 0.0, 0.0, 0.0, 0.0, 0.0, 0.0, 0.0, 0.0, 0.0, 0.0, 0.0, 0.0, 0.0, 0.0, 0.0, 0.0, 0.0, 0.0, 0.0, 0.0, 0.0, 0.0, 0.0, 0.0, 0.0, 0.0, 0.0, 0.0, 0.0, 0.0, 0.0, 0.0, 0.0, 0.0, 0.0, 0.0, 0.0, 0.0, 0.0, 0.0, 0.0, 0.0, 0.0, 0.0, 0.0, 0.0, 0.0, 0.0, 0.0, 0.0, 0.0, 0.0, 0.0, 0.0]\n",
      "[0.0, 0.0, 0.0, 0.0, 0.0, 0.0, 0.0, 0.0, 0.0, 0.0, 0.0, 0.0, 0.0, 0.0, 0.0, 0.0, 0.0, 0.0, 0.0, 0.0, 0.0, 0.0, 0.0, 0.0, 0.0, 0.0, 0.0, 0.0, 0.0, 0.0, 0.0, 0.0, 0.0, 0.0, 0.0, 0.2370511293411255, 0.0, 0.0, 0.0, 0.0, 0.0, 0.0, 0.0, 0.0, 0.0, 0.0, 0.0, 0.0, 0.0, 0.0, 0.0, 0.0, 0.0, 0.0, 0.0, 0.0, 0.0, 0.0, 0.0, 0.0, 0.0, 0.0, 0.0]\n",
      "[0.0, 0.0, 0.0, 0.0, 0.5530737638473511, 0.0, 0.0, 0.0, 0.0, 0.0, 0.0, 0.0, 0.0, 0.0, 0.0, 0.0, 0.0, 0.0, 0.0, 0.0, 0.0, 0.0, 0.0, 0.0, 0.0, 0.0, 0.0, 0.0, 0.0, 0.0, 0.0, 0.0, 0.0, 0.0, 0.0, 0.0, 0.0, 0.0, 0.0, 0.0, 0.0, 0.0, 0.0, 0.0, 0.0, 0.0, 0.0, 0.0, 0.0, 0.0]\n",
      "[0.0, 0.0, 0.0, 0.0, 0.0, 0.0, 0.0, 0.0, 0.0, 0.0, 0.0, 0.0, 0.0, 0.0, 0.0, 0.0, 0.0, 0.0, 0.0, 0.0, 0.0, 1.0065555572509766, 0.0, 0.0, 0.0, 0.0, 0.0, 0.0, 0.0, 0.0, 0.0, 0.0, 0.0, 0.0, 0.0, 0.0, 0.0, 0.0, 0.0, 0.0, 0.0, 0.0, 0.0, 0.0, 0.0, 0.0, 0.0, 0.0, 0.0, 0.0]\n"
     ]
    }
   ],
   "source": [
    "for clone in top100_clones:\n",
    "    single_clone = data[data.obs['clone_idx'] == clone, data.var['gene_id'] == 'Trp63']\n",
    "    if single_clone.X.max() > 0:\n",
    "        print(single_clone.to_df().iloc[:, 0].tolist())"
   ]
  },
  {
   "cell_type": "markdown",
   "id": "6af97aa7-f3ee-4062-9432-743e7df67663",
   "metadata": {},
   "source": [
    "We could query the data frame that has 100 clones and all mouse transcription factors... "
   ]
  },
  {
   "cell_type": "code",
   "execution_count": 436,
   "id": "d3cdd0f4-1d77-4033-a5eb-4c2e3d55dc66",
   "metadata": {},
   "outputs": [],
   "source": [
    "data = ann_data[ann_data.obs.clone_idx.isin(top100_clones), ann_data.var.gene_id.isin(mouse_TFs['Symbol'].tolist())]"
   ]
  },
  {
   "cell_type": "markdown",
   "id": "7917fce8-53fb-4dcf-a24c-ebe26f15f561",
   "metadata": {},
   "source": [
    "But it turns out this is very sparse, and we could instead focus on the subset of genes that are non-zero in at least 1000 cells. That will help us distinguish distributions. "
   ]
  },
  {
   "cell_type": "code",
   "execution_count": 438,
   "id": "a76ae984-15df-4c6b-a8aa-4144f005bcd0",
   "metadata": {},
   "outputs": [],
   "source": [
    "dense_data = data[:, (data.to_df().astype(bool).sum() > 1000).tolist()]"
   ]
  },
  {
   "cell_type": "markdown",
   "id": "a0564d85-785e-4b08-8af1-756d71aa7855",
   "metadata": {},
   "source": [
    "Now we reach a strategic juncture--we need to use TFs that are well characterized! So actually, we'll just move forward with Myc. \n",
    "\n",
    "Myc has 1500 target genes--I think that will help our cause https://www.ncbi.nlm.nih.gov/pmc/articles/PMC2258436/#:~:text=Among%20the%20targets%20of%20Myc,Myc%20in%20regulating%20mitochondrial%20biogenesis.\n",
    "Table S1 in this paper has the human genes which are known targets of MYC. We can convert these to mouse orthologs using biomaRt, a package in R. "
   ]
  },
  {
   "cell_type": "code",
   "execution_count": 448,
   "id": "021df789-31fd-485a-ad9b-db0b138076b2",
   "metadata": {},
   "outputs": [],
   "source": [
    "myc = data[:, data.var['gene_id'] == 'Myc']\n",
    "myc_id = myc.to_df().columns[0]"
   ]
  },
  {
   "cell_type": "markdown",
   "id": "c1d8b510-977c-41b5-860a-ed84bc237e49",
   "metadata": {},
   "source": [
    "Let's check all 10^4 pairs in our data frame with 100 clones and calculate the wasserstein distance between clone1's myc expression (that's just a vector, so you could plot its distribution as a histogram) and clone2's myc expression. Do any clones stand out? "
   ]
  },
  {
   "cell_type": "code",
   "execution_count": 450,
   "id": "b9460741-0053-43f3-9da2-0039246c1164",
   "metadata": {
    "collapsed": true,
    "jupyter": {
     "outputs_hidden": true
    },
    "tags": []
   },
   "outputs": [],
   "source": [
    "tuples = []\n",
    "for clone1 in set(myc.obs.clone_idx):\n",
    "    print(clone1)\n",
    "    for clone2 in set(myc.obs.clone_idx):\n",
    "        myc1 = myc[myc.obs.clone_idx == clone1, :]\n",
    "        myc2 = myc[myc.obs.clone_idx == clone2, :]\n",
    "        wd = stats.wasserstein_distance(myc1.to_df()[myc_id], myc2.to_df()[myc_id])\n",
    "        tuples.append([clone1, clone2, wd])\n",
    "\n",
    "df = pd.DataFrame(tuples, columns=['clone1', 'clone2', 'wd'])"
   ]
  },
  {
   "cell_type": "markdown",
   "id": "0e4b9bc7-bddd-4b36-92cb-40c5e32ec9ef",
   "metadata": {},
   "source": [
    "What does the distribution of Wasserstein distances look like? "
   ]
  },
  {
   "cell_type": "code",
   "execution_count": 474,
   "id": "4ae7a1ad-a6e1-475e-a0e7-3184b0e41b39",
   "metadata": {},
   "outputs": [
    {
     "data": {
      "image/png": "[encoded data removed]",
      "text/plain": [
       "<Figure size 432x432 with 1 Axes>"
      ]
     },
     "metadata": {
      "needs_background": "light"
     },
     "output_type": "display_data"
    }
   ],
   "source": [
    "plt.figure(figsize=(6, 6))\n",
    "plt.hist(df['wd'], bins=100);\n",
    "plt.title('distribution of pairwise wasserstein distances');"
   ]
  },
  {
   "cell_type": "markdown",
   "id": "35667fb4-c8e3-49a6-afdd-bfbf4b22def3",
   "metadata": {},
   "source": [
    "So WD > 1 looks like it would pick up persistent signal that doesn't just attenuate with increasing WD. The distribution of Wasserstein distances is hard to consider analytically. It might be worth doing some simulations to get a handle on the background model here. This could be all noise, but let's try to see if there's a clone with a markedly different distribution. Such a clone would have a WD that's pretty high compared to most other clones. It would be a good clone to move forward with--a clone with a confirmed edge between C and TF, in this case Myc. "
   ]
  },
  {
   "cell_type": "code",
   "execution_count": 475,
   "id": "3d469c7a-4f9d-451d-8cb5-5eda68e367cc",
   "metadata": {},
   "outputs": [
    {
     "data": {
      "image/png": "[encoded data removed]",
      "text/plain": [
       "<Figure size 432x432 with 1 Axes>"
      ]
     },
     "metadata": {
      "needs_background": "light"
     },
     "output_type": "display_data"
    }
   ],
   "source": [
    "df = df.sort_values(by=['clone1', 'clone2'])\n",
    "\n",
    "mean_wds = df.groupby('clone1')['wd'].mean().to_frame().reset_index()\n",
    "\n",
    "plt.figure(figsize=(6, 6))\n",
    "plt.hist(df.groupby('clone1')['wd'].mean(), bins=30);"
   ]
  },
  {
   "cell_type": "markdown",
   "id": "0ee27898-489f-49df-b2e5-ac58949e18ef",
   "metadata": {},
   "source": [
    "Okay, there are some stand out clones here. We can make a heat map with clones on each axis, and the value of the i, j cell corresponds to the WD of myc distributions between clone i and clone j. "
   ]
  },
  {
   "cell_type": "code",
   "execution_count": 476,
   "id": "7588a24c-b0de-4808-9747-16daa2d8c686",
   "metadata": {},
   "outputs": [
    {
     "data": {
      "text/html": [
       "<div>\n",
       "<style scoped>\n",
       "    .dataframe tbody tr th:only-of-type {\n",
       "        vertical-align: middle;\n",
       "    }\n",
       "\n",
       "    .dataframe tbody tr th {\n",
       "        vertical-align: top;\n",
       "    }\n",
       "\n",
       "    .dataframe thead th {\n",
       "        text-align: right;\n",
       "    }\n",
       "</style>\n",
       "<table border=\"1\" class=\"dataframe\">\n",
       "  <thead>\n",
       "    <tr style=\"text-align: right;\">\n",
       "      <th></th>\n",
       "      <th>clone1</th>\n",
       "      <th>clone2</th>\n",
       "      <th>wd</th>\n",
       "      <th>mean_wd_clone1</th>\n",
       "      <th>mean_wd_clone2</th>\n",
       "    </tr>\n",
       "  </thead>\n",
       "  <tbody>\n",
       "    <tr>\n",
       "      <th>9595</th>\n",
       "      <td>5714.0</td>\n",
       "      <td>5714.0</td>\n",
       "      <td>0.000000</td>\n",
       "      <td>0.319128</td>\n",
       "      <td>0.319128</td>\n",
       "    </tr>\n",
       "    <tr>\n",
       "      <th>3495</th>\n",
       "      <td>5714.0</td>\n",
       "      <td>2256.0</td>\n",
       "      <td>0.101202</td>\n",
       "      <td>0.319128</td>\n",
       "      <td>0.325622</td>\n",
       "    </tr>\n",
       "    <tr>\n",
       "      <th>4795</th>\n",
       "      <td>5714.0</td>\n",
       "      <td>2887.0</td>\n",
       "      <td>0.084861</td>\n",
       "      <td>0.319128</td>\n",
       "      <td>0.326007</td>\n",
       "    </tr>\n",
       "    <tr>\n",
       "      <th>1395</th>\n",
       "      <td>5714.0</td>\n",
       "      <td>801.0</td>\n",
       "      <td>0.096842</td>\n",
       "      <td>0.319128</td>\n",
       "      <td>0.326859</td>\n",
       "    </tr>\n",
       "    <tr>\n",
       "      <th>2795</th>\n",
       "      <td>5714.0</td>\n",
       "      <td>2007.0</td>\n",
       "      <td>0.095163</td>\n",
       "      <td>0.319128</td>\n",
       "      <td>0.328264</td>\n",
       "    </tr>\n",
       "    <tr>\n",
       "      <th>...</th>\n",
       "      <td>...</td>\n",
       "      <td>...</td>\n",
       "      <td>...</td>\n",
       "      <td>...</td>\n",
       "      <td>...</td>\n",
       "    </tr>\n",
       "    <tr>\n",
       "      <th>4162</th>\n",
       "      <td>3628.0</td>\n",
       "      <td>2598.0</td>\n",
       "      <td>1.280152</td>\n",
       "      <td>2.130060</td>\n",
       "      <td>0.905218</td>\n",
       "    </tr>\n",
       "    <tr>\n",
       "      <th>7762</th>\n",
       "      <td>3628.0</td>\n",
       "      <td>4234.0</td>\n",
       "      <td>1.205619</td>\n",
       "      <td>2.130060</td>\n",
       "      <td>0.969499</td>\n",
       "    </tr>\n",
       "    <tr>\n",
       "      <th>7962</th>\n",
       "      <td>3628.0</td>\n",
       "      <td>4287.0</td>\n",
       "      <td>1.217200</td>\n",
       "      <td>2.130060</td>\n",
       "      <td>0.978936</td>\n",
       "    </tr>\n",
       "    <tr>\n",
       "      <th>7662</th>\n",
       "      <td>3628.0</td>\n",
       "      <td>4226.0</td>\n",
       "      <td>0.713716</td>\n",
       "      <td>2.130060</td>\n",
       "      <td>1.443801</td>\n",
       "    </tr>\n",
       "    <tr>\n",
       "      <th>6262</th>\n",
       "      <td>3628.0</td>\n",
       "      <td>3628.0</td>\n",
       "      <td>0.000000</td>\n",
       "      <td>2.130060</td>\n",
       "      <td>2.130060</td>\n",
       "    </tr>\n",
       "  </tbody>\n",
       "</table>\n",
       "<p>10000 rows × 5 columns</p>\n",
       "</div>"
      ],
      "text/plain": [
       "      clone1  clone2        wd  mean_wd_clone1  mean_wd_clone2\n",
       "9595  5714.0  5714.0  0.000000        0.319128        0.319128\n",
       "3495  5714.0  2256.0  0.101202        0.319128        0.325622\n",
       "4795  5714.0  2887.0  0.084861        0.319128        0.326007\n",
       "1395  5714.0   801.0  0.096842        0.319128        0.326859\n",
       "2795  5714.0  2007.0  0.095163        0.319128        0.328264\n",
       "...      ...     ...       ...             ...             ...\n",
       "4162  3628.0  2598.0  1.280152        2.130060        0.905218\n",
       "7762  3628.0  4234.0  1.205619        2.130060        0.969499\n",
       "7962  3628.0  4287.0  1.217200        2.130060        0.978936\n",
       "7662  3628.0  4226.0  0.713716        2.130060        1.443801\n",
       "6262  3628.0  3628.0  0.000000        2.130060        2.130060\n",
       "\n",
       "[10000 rows x 5 columns]"
      ]
     },
     "execution_count": 476,
     "metadata": {},
     "output_type": "execute_result"
    }
   ],
   "source": [
    "df = df.merge(mean_wds.rename(columns={'wd':'mean_wd_clone1'}), on=['clone1'], how='inner')\n",
    "df = df.merge(mean_wds.rename(columns={'clone1':'clone2', 'wd':'mean_wd_clone2'}), on='clone2', how='inner')\n",
    "\n",
    "df = df.sort_values(by=['mean_wd_clone1', 'mean_wd_clone2'])\n",
    "\n",
    "df"
   ]
  },
  {
   "cell_type": "markdown",
   "id": "d3beedee-1b7b-4e7a-afc3-0916a4e548a1",
   "metadata": {},
   "source": [
    "We have to turn this into an array to feed it to matplotlib."
   ]
  },
  {
   "cell_type": "code",
   "execution_count": null,
   "id": "b86c8029-bc86-4362-af13-9a1242b9d206",
   "metadata": {},
   "outputs": [],
   "source": [
    "wd_heatmap = np.array(np.array_split(df['wd'].values, 100))\n",
    "\n",
    "wd_heatmap.shape"
   ]
  },
  {
   "cell_type": "code",
   "execution_count": 479,
   "id": "9ee83b56-0e9c-40bb-af4d-94c7e016bc8b",
   "metadata": {
    "collapsed": true,
    "jupyter": {
     "outputs_hidden": true
    },
    "tags": []
   },
   "outputs": [
    {
     "data": {
      "image/png": "[encoded data removed]",
      "text/plain": [
       "<Figure size 7200x7200 with 1 Axes>"
      ]
     },
     "metadata": {
      "needs_background": "light"
     },
     "output_type": "display_data"
    }
   ],
   "source": [
    "plt.rcParams[\"figure.figsize\"] = (100, 100) \n",
    "plt.rcParams['font.size'] = 24\n",
    "fig, ax = plt.subplots()\n",
    "im = ax.imshow(wd_heatmap)"
   ]
  },
  {
   "cell_type": "code",
   "execution_count": 483,
   "id": "11fd4c7f-642b-4ddc-9c2f-969ccd447f96",
   "metadata": {},
   "outputs": [
    {
     "data": {
      "text/plain": [
       "3628.0"
      ]
     },
     "execution_count": 483,
     "metadata": {},
     "output_type": "execute_result"
    }
   ],
   "source": [
    "df[df['mean_wd_clone1'] == df['mean_wd_clone1'].max()]['clone1'].values[0]"
   ]
  },
  {
   "cell_type": "markdown",
   "id": "61cbce3c-4caa-4781-b5e0-5e4b7ea4478e",
   "metadata": {},
   "source": [
    "There's a lot to think about here, and we can't think about it much before the K99 deadline. My guess is that the boxy substructures reflect clonal structure. Closely related clones have similar myc expression distributions, so they sort next to each other when we sort on mean WD. But let's stay focused and run with 3628, a clone that has a high Wasserstein distance compared to many other clones (the stripe at the bottom row and rightmost column). We should carry all pairs featuring 3628 forward, because we may run out of pairs when we try testing conditional indepdence. \n",
    "\n",
    "Another thing to quickly check is the mean myc expression for each clone. I'm not sure if this is the best way to use the ann_data object (in fact I suspect there are grouping methods built into the object), but we can hackily merge the raw df with the clone idx series, then group that data frame by clone index. "
   ]
  },
  {
   "cell_type": "code",
   "execution_count": 496,
   "id": "1b02ab4f-858d-45d2-92c5-2be0207265f9",
   "metadata": {},
   "outputs": [
    {
     "name": "stdout",
     "output_type": "stream",
     "text": [
      "the clone with maximum mean myc expression is 3628.0\n"
     ]
    },
    {
     "data": {
      "image/png": "[encoded data removed]",
      "text/plain": [
       "<Figure size 432x432 with 1 Axes>"
      ]
     },
     "metadata": {
      "needs_background": "light"
     },
     "output_type": "display_data"
    }
   ],
   "source": [
    "plt.figure(figsize=(6, 6))\n",
    "plt.hist(data.to_df().merge(data.obs.clone_idx, left_index=True, right_index=True).groupby('clone_idx')[myc_id].mean());\n",
    "plt.title('mean myc expression in top 100 clones')\n",
    "print('the clone with maximum mean myc expression is', data.to_df().merge(data.obs.clone_idx, left_index=True, right_index=True).groupby('clone_idx')[myc_id].mean().idxmax())"
   ]
  },
  {
   "cell_type": "markdown",
   "id": "f57c648d-54af-48a0-abf7-9e8e98791e57",
   "metadata": {},
   "source": [
    "Check for targets of Myc \n",
    "="
   ]
  },
  {
   "cell_type": "markdown",
   "id": "9d3dfeae-3dbd-4f91-bf01-e9e6b171d3c2",
   "metadata": {},
   "source": [
    "So we've identified a clone with differential expression of Myc compared to many other clones (that stripe in the heatmap), suggesting it may not just be noise. We've also identified Myc as a relatively highly expressed gene (> 1000 out of ~7000 cells have non-zero values) that's very well characterized in the literature. Now rather than manually checking Myc targets, we'll identify all genes that satisfy the conditional independence relations I listed above, using the Kernel Conditional Independence test (Zhang 2011 https://arxiv.org/abs/1202.3775). I found an implementation of this in R, so even though it's not very hard to implement (under the null hypothesis the statistic can be approximted by a gamma) I'm going to play it safe and use their method. That means writing a data frame and reading is using the R script in this directory called KCI.R. \n",
    "\n",
    "We'll get 2 p values for each pair of clones featuring clone 3628--one is the p value for the null hypothesis that Myc \\independent C | target, the other is the p value for the null hypothesis that target \\independent C | Myc. If the former is rejected and the latter accepted, we have a set of genes that are more likely (in theory) to satisfy C --> Myc --> target. We check if that set of genes is enriched for Myc targets. How to do that exactly, I'm not sure yet, but we'll cross that bridge when we come to it. "
   ]
  },
  {
   "cell_type": "code",
   "execution_count": 497,
   "id": "6f67b111-ff3f-4a14-8876-f2412f8e7828",
   "metadata": {},
   "outputs": [],
   "source": [
    "all_genes_top_100_clones = ann_data[ann_data.obs.clone_idx.isin(top100_clones)]\n",
    "\n",
    "top100_clones_dense_genes = all_genes_top_100_clones[:, (all_genes_top_100_clones.to_df().astype(bool).sum() > 1000)]\n",
    "\n",
    "df = top100_clones_dense_genes"
   ]
  },
  {
   "cell_type": "markdown",
   "id": "a02016ce-68d2-4806-9953-d9ba587c9642",
   "metadata": {},
   "source": [
    "For example: "
   ]
  },
  {
   "cell_type": "code",
   "execution_count": 498,
   "id": "44963d62-02db-4952-be72-ecb86bc4e3af",
   "metadata": {},
   "outputs": [
    {
     "data": {
      "text/plain": [
       "1.8772298318936544"
      ]
     },
     "execution_count": 498,
     "metadata": {},
     "output_type": "execute_result"
    }
   ],
   "source": [
    "clone1 = df[df.obs.clone_idx == 3628]\n",
    "\n",
    "clone2 = df[df.obs.clone_idx == df.obs.clone_idx[0]]\n",
    "\n",
    "stats.wasserstein_distance(clone1[:, clone1.var.gene_id == 'Myc'].to_df().iloc[:, 0], clone2[:, clone2.var.gene_id=='Myc'].to_df().iloc[:, 0])"
   ]
  },
  {
   "cell_type": "markdown",
   "id": "2e1170de-d37c-4e81-ae3f-31e99512c2ee",
   "metadata": {},
   "source": [
    "We write this so we can read it in R. Head over to KCI.R"
   ]
  },
  {
   "cell_type": "code",
   "execution_count": 501,
   "id": "1023f6fe-93a8-4df5-9318-514c33d7676f",
   "metadata": {},
   "outputs": [],
   "source": [
    "df.to_df().merge(df.obs.clone_idx, left_index=True, right_index=True).to_csv('100_clones_highly_expressed_genes.tsv', sep='\\t')"
   ]
  },
  {
   "cell_type": "markdown",
   "id": "0efee37f-d204-4af3-a689-938a28b53451",
   "metadata": {},
   "source": [
    "Now we feed those p values back into a data frame that has columns clone1, clone2, target_gene_id, wd_myc, wd_target, p_value_myc_target, p_value_target_myc. p_value_myc_target is the p value of the null hypothesis that Myc \\independent C | target. "
   ]
  },
  {
   "cell_type": "code",
   "execution_count": 395,
   "id": "2994e33c-0020-4080-8cd7-067280f1ea61",
   "metadata": {},
   "outputs": [],
   "source": [
    "def check_four_conditions(df, clone1_id=3628.0, TF = 'Myc'):\n",
    "    tuples = []\n",
    "    clone1 = df[df.obs.clone_idx == clone1_id]\n",
    "    for clone2_id in set(df.obs.clone_idx).difference({clone1_id}):\n",
    "        clone2 = df[df.obs.clone_idx == clone2_id]\n",
    "        wd_myc = stats.wasserstein_distance(clone1[:, clone1.var.gene_id == 'Myc'].to_df().iloc[:, 0], clone2[:, clone2.var.gene_id=='Myc'].to_df().iloc[:, 0])        \n",
    "        for gene_id in set(df.var.gene_id).difference({TF}):\n",
    "            wd_target = stats.wasserstein_distance(clone1[:, clone1.var.gene_id == gene_id].to_df().iloc[:, 0], clone2[:, clone2.var.gene_id == gene_id].to_df().iloc[:, 0]) \n",
    "            wd_myc_target = 0\n",
    "            wd_target_myc = 0\n",
    "            tuples.append([clone1_id, clone2_id, gene_id, wd_myc, wd_target, wd_myc_target, wd_target_myc])\n",
    "    return pd.DataFrame(tuples, columns=['clone1', 'clone2', 'gene_id', 'wd_myc', 'wd_target', 'wd_myc_target', 'wd_target_myc'])\n",
    "    "
   ]
  },
  {
   "cell_type": "code",
   "execution_count": 396,
   "id": "e24ac4a8-42bf-43e2-8ef4-e608f48b4033",
   "metadata": {},
   "outputs": [],
   "source": [
    "potential_targets = check_four_conditions(two_clones)"
   ]
  },
  {
   "cell_type": "code",
   "execution_count": 397,
   "id": "5b564fbb-0552-45df-b98e-703a78cc32c5",
   "metadata": {},
   "outputs": [
    {
     "data": {
      "text/html": [
       "<div>\n",
       "<style scoped>\n",
       "    .dataframe tbody tr th:only-of-type {\n",
       "        vertical-align: middle;\n",
       "    }\n",
       "\n",
       "    .dataframe tbody tr th {\n",
       "        vertical-align: top;\n",
       "    }\n",
       "\n",
       "    .dataframe thead th {\n",
       "        text-align: right;\n",
       "    }\n",
       "</style>\n",
       "<table border=\"1\" class=\"dataframe\">\n",
       "  <thead>\n",
       "    <tr style=\"text-align: right;\">\n",
       "      <th></th>\n",
       "      <th>clone1</th>\n",
       "      <th>clone2</th>\n",
       "      <th>gene_id</th>\n",
       "      <th>wd_myc</th>\n",
       "      <th>wd_target</th>\n",
       "      <th>wd_myc_target</th>\n",
       "      <th>wd_target_myc</th>\n",
       "    </tr>\n",
       "  </thead>\n",
       "  <tbody>\n",
       "    <tr>\n",
       "      <th>0</th>\n",
       "      <td>3628.0</td>\n",
       "      <td>394.0</td>\n",
       "      <td>Rassf4</td>\n",
       "      <td>1.87723</td>\n",
       "      <td>0.697622</td>\n",
       "      <td>0</td>\n",
       "      <td>0</td>\n",
       "    </tr>\n",
       "    <tr>\n",
       "      <th>1</th>\n",
       "      <td>3628.0</td>\n",
       "      <td>394.0</td>\n",
       "      <td>Bhlhe40</td>\n",
       "      <td>1.87723</td>\n",
       "      <td>0.308326</td>\n",
       "      <td>0</td>\n",
       "      <td>0</td>\n",
       "    </tr>\n",
       "    <tr>\n",
       "      <th>2</th>\n",
       "      <td>3628.0</td>\n",
       "      <td>394.0</td>\n",
       "      <td>Tiam1</td>\n",
       "      <td>1.87723</td>\n",
       "      <td>0.107752</td>\n",
       "      <td>0</td>\n",
       "      <td>0</td>\n",
       "    </tr>\n",
       "    <tr>\n",
       "      <th>3</th>\n",
       "      <td>3628.0</td>\n",
       "      <td>394.0</td>\n",
       "      <td>Camp</td>\n",
       "      <td>1.87723</td>\n",
       "      <td>0.012991</td>\n",
       "      <td>0</td>\n",
       "      <td>0</td>\n",
       "    </tr>\n",
       "    <tr>\n",
       "      <th>4</th>\n",
       "      <td>3628.0</td>\n",
       "      <td>394.0</td>\n",
       "      <td>Mpeg1</td>\n",
       "      <td>1.87723</td>\n",
       "      <td>1.431396</td>\n",
       "      <td>0</td>\n",
       "      <td>0</td>\n",
       "    </tr>\n",
       "    <tr>\n",
       "      <th>...</th>\n",
       "      <td>...</td>\n",
       "      <td>...</td>\n",
       "      <td>...</td>\n",
       "      <td>...</td>\n",
       "      <td>...</td>\n",
       "      <td>...</td>\n",
       "      <td>...</td>\n",
       "    </tr>\n",
       "    <tr>\n",
       "      <th>486</th>\n",
       "      <td>3628.0</td>\n",
       "      <td>394.0</td>\n",
       "      <td>Cebpb</td>\n",
       "      <td>1.87723</td>\n",
       "      <td>2.037443</td>\n",
       "      <td>0</td>\n",
       "      <td>0</td>\n",
       "    </tr>\n",
       "    <tr>\n",
       "      <th>487</th>\n",
       "      <td>3628.0</td>\n",
       "      <td>394.0</td>\n",
       "      <td>Cst3</td>\n",
       "      <td>1.87723</td>\n",
       "      <td>2.889844</td>\n",
       "      <td>0</td>\n",
       "      <td>0</td>\n",
       "    </tr>\n",
       "    <tr>\n",
       "      <th>488</th>\n",
       "      <td>3628.0</td>\n",
       "      <td>394.0</td>\n",
       "      <td>Sipa1l1</td>\n",
       "      <td>1.87723</td>\n",
       "      <td>0.424919</td>\n",
       "      <td>0</td>\n",
       "      <td>0</td>\n",
       "    </tr>\n",
       "    <tr>\n",
       "      <th>489</th>\n",
       "      <td>3628.0</td>\n",
       "      <td>394.0</td>\n",
       "      <td>Ero1l</td>\n",
       "      <td>1.87723</td>\n",
       "      <td>0.099883</td>\n",
       "      <td>0</td>\n",
       "      <td>0</td>\n",
       "    </tr>\n",
       "    <tr>\n",
       "      <th>490</th>\n",
       "      <td>3628.0</td>\n",
       "      <td>394.0</td>\n",
       "      <td>Grina</td>\n",
       "      <td>1.87723</td>\n",
       "      <td>0.183566</td>\n",
       "      <td>0</td>\n",
       "      <td>0</td>\n",
       "    </tr>\n",
       "  </tbody>\n",
       "</table>\n",
       "<p>491 rows × 7 columns</p>\n",
       "</div>"
      ],
      "text/plain": [
       "     clone1  clone2  gene_id   wd_myc  wd_target  wd_myc_target  wd_target_myc\n",
       "0    3628.0   394.0   Rassf4  1.87723   0.697622              0              0\n",
       "1    3628.0   394.0  Bhlhe40  1.87723   0.308326              0              0\n",
       "2    3628.0   394.0    Tiam1  1.87723   0.107752              0              0\n",
       "3    3628.0   394.0     Camp  1.87723   0.012991              0              0\n",
       "4    3628.0   394.0    Mpeg1  1.87723   1.431396              0              0\n",
       "..      ...     ...      ...      ...        ...            ...            ...\n",
       "486  3628.0   394.0    Cebpb  1.87723   2.037443              0              0\n",
       "487  3628.0   394.0     Cst3  1.87723   2.889844              0              0\n",
       "488  3628.0   394.0  Sipa1l1  1.87723   0.424919              0              0\n",
       "489  3628.0   394.0    Ero1l  1.87723   0.099883              0              0\n",
       "490  3628.0   394.0    Grina  1.87723   0.183566              0              0\n",
       "\n",
       "[491 rows x 7 columns]"
      ]
     },
     "execution_count": 397,
     "metadata": {},
     "output_type": "execute_result"
    }
   ],
   "source": [
    "potential_targets"
   ]
  },
  {
   "cell_type": "code",
   "execution_count": 404,
   "id": "3d492c1f-34e8-40af-98cc-9e2f38fe4899",
   "metadata": {},
   "outputs": [
    {
     "data": {
      "text/html": [
       "<div>\n",
       "<style scoped>\n",
       "    .dataframe tbody tr th:only-of-type {\n",
       "        vertical-align: middle;\n",
       "    }\n",
       "\n",
       "    .dataframe tbody tr th {\n",
       "        vertical-align: top;\n",
       "    }\n",
       "\n",
       "    .dataframe thead th {\n",
       "        text-align: right;\n",
       "    }\n",
       "</style>\n",
       "<table border=\"1\" class=\"dataframe\">\n",
       "  <thead>\n",
       "    <tr style=\"text-align: right;\">\n",
       "      <th></th>\n",
       "      <th>651</th>\n",
       "      <th>731</th>\n",
       "      <th>1623</th>\n",
       "      <th>1809</th>\n",
       "      <th>2029</th>\n",
       "      <th>2112</th>\n",
       "      <th>2115</th>\n",
       "      <th>2124</th>\n",
       "      <th>2185</th>\n",
       "      <th>2247</th>\n",
       "      <th>...</th>\n",
       "      <th>23833</th>\n",
       "      <th>23885</th>\n",
       "      <th>24054</th>\n",
       "      <th>24055</th>\n",
       "      <th>24078</th>\n",
       "      <th>24372</th>\n",
       "      <th>24416</th>\n",
       "      <th>24504</th>\n",
       "      <th>24507</th>\n",
       "      <th>clone_idx</th>\n",
       "    </tr>\n",
       "  </thead>\n",
       "  <tbody>\n",
       "    <tr>\n",
       "      <th>2</th>\n",
       "      <td>0.000000</td>\n",
       "      <td>0.000000</td>\n",
       "      <td>0.481799</td>\n",
       "      <td>0.963598</td>\n",
       "      <td>0.000000</td>\n",
       "      <td>15.417568</td>\n",
       "      <td>13.008573</td>\n",
       "      <td>0.481799</td>\n",
       "      <td>0.000000</td>\n",
       "      <td>0.0</td>\n",
       "      <td>...</td>\n",
       "      <td>3.854392</td>\n",
       "      <td>0.481799</td>\n",
       "      <td>0.481799</td>\n",
       "      <td>0.481799</td>\n",
       "      <td>7.226985</td>\n",
       "      <td>0.481799</td>\n",
       "      <td>0.481799</td>\n",
       "      <td>0.481799</td>\n",
       "      <td>4.336191</td>\n",
       "      <td>394.0</td>\n",
       "    </tr>\n",
       "    <tr>\n",
       "      <th>15</th>\n",
       "      <td>0.377392</td>\n",
       "      <td>0.000000</td>\n",
       "      <td>0.000000</td>\n",
       "      <td>0.377392</td>\n",
       "      <td>0.000000</td>\n",
       "      <td>6.793063</td>\n",
       "      <td>10.189594</td>\n",
       "      <td>0.377392</td>\n",
       "      <td>0.000000</td>\n",
       "      <td>0.0</td>\n",
       "      <td>...</td>\n",
       "      <td>0.377392</td>\n",
       "      <td>0.377392</td>\n",
       "      <td>0.000000</td>\n",
       "      <td>0.000000</td>\n",
       "      <td>1.132177</td>\n",
       "      <td>0.000000</td>\n",
       "      <td>0.754785</td>\n",
       "      <td>0.000000</td>\n",
       "      <td>2.641747</td>\n",
       "      <td>3529.0</td>\n",
       "    </tr>\n",
       "    <tr>\n",
       "      <th>16</th>\n",
       "      <td>0.000000</td>\n",
       "      <td>0.000000</td>\n",
       "      <td>0.000000</td>\n",
       "      <td>1.129807</td>\n",
       "      <td>0.564904</td>\n",
       "      <td>7.343748</td>\n",
       "      <td>36.718739</td>\n",
       "      <td>0.564904</td>\n",
       "      <td>0.000000</td>\n",
       "      <td>0.0</td>\n",
       "      <td>...</td>\n",
       "      <td>0.564904</td>\n",
       "      <td>0.000000</td>\n",
       "      <td>0.000000</td>\n",
       "      <td>0.000000</td>\n",
       "      <td>1.129807</td>\n",
       "      <td>0.000000</td>\n",
       "      <td>0.000000</td>\n",
       "      <td>0.000000</td>\n",
       "      <td>0.000000</td>\n",
       "      <td>5725.0</td>\n",
       "    </tr>\n",
       "    <tr>\n",
       "      <th>25</th>\n",
       "      <td>0.178162</td>\n",
       "      <td>0.178162</td>\n",
       "      <td>0.000000</td>\n",
       "      <td>0.178162</td>\n",
       "      <td>0.712650</td>\n",
       "      <td>6.057524</td>\n",
       "      <td>8.551798</td>\n",
       "      <td>0.890812</td>\n",
       "      <td>0.000000</td>\n",
       "      <td>0.0</td>\n",
       "      <td>...</td>\n",
       "      <td>0.000000</td>\n",
       "      <td>0.534487</td>\n",
       "      <td>0.000000</td>\n",
       "      <td>0.534487</td>\n",
       "      <td>1.068975</td>\n",
       "      <td>0.178162</td>\n",
       "      <td>0.712650</td>\n",
       "      <td>0.000000</td>\n",
       "      <td>0.534487</td>\n",
       "      <td>3438.0</td>\n",
       "    </tr>\n",
       "    <tr>\n",
       "      <th>30</th>\n",
       "      <td>0.000000</td>\n",
       "      <td>0.843960</td>\n",
       "      <td>0.000000</td>\n",
       "      <td>0.843960</td>\n",
       "      <td>0.000000</td>\n",
       "      <td>24.474852</td>\n",
       "      <td>10.127525</td>\n",
       "      <td>0.843960</td>\n",
       "      <td>1.687921</td>\n",
       "      <td>0.0</td>\n",
       "      <td>...</td>\n",
       "      <td>3.375842</td>\n",
       "      <td>2.531881</td>\n",
       "      <td>5.063763</td>\n",
       "      <td>1.687921</td>\n",
       "      <td>19.411089</td>\n",
       "      <td>0.843960</td>\n",
       "      <td>0.000000</td>\n",
       "      <td>2.531881</td>\n",
       "      <td>7.595644</td>\n",
       "      <td>3887.0</td>\n",
       "    </tr>\n",
       "    <tr>\n",
       "      <th>...</th>\n",
       "      <td>...</td>\n",
       "      <td>...</td>\n",
       "      <td>...</td>\n",
       "      <td>...</td>\n",
       "      <td>...</td>\n",
       "      <td>...</td>\n",
       "      <td>...</td>\n",
       "      <td>...</td>\n",
       "      <td>...</td>\n",
       "      <td>...</td>\n",
       "      <td>...</td>\n",
       "      <td>...</td>\n",
       "      <td>...</td>\n",
       "      <td>...</td>\n",
       "      <td>...</td>\n",
       "      <td>...</td>\n",
       "      <td>...</td>\n",
       "      <td>...</td>\n",
       "      <td>...</td>\n",
       "      <td>...</td>\n",
       "      <td>...</td>\n",
       "    </tr>\n",
       "    <tr>\n",
       "      <th>128665</th>\n",
       "      <td>1.512743</td>\n",
       "      <td>0.000000</td>\n",
       "      <td>1.512743</td>\n",
       "      <td>0.000000</td>\n",
       "      <td>0.000000</td>\n",
       "      <td>34.793079</td>\n",
       "      <td>34.793079</td>\n",
       "      <td>1.512743</td>\n",
       "      <td>0.000000</td>\n",
       "      <td>0.0</td>\n",
       "      <td>...</td>\n",
       "      <td>1.512743</td>\n",
       "      <td>0.000000</td>\n",
       "      <td>0.000000</td>\n",
       "      <td>3.025485</td>\n",
       "      <td>18.152910</td>\n",
       "      <td>3.025485</td>\n",
       "      <td>0.000000</td>\n",
       "      <td>0.000000</td>\n",
       "      <td>10.589197</td>\n",
       "      <td>2247.0</td>\n",
       "    </tr>\n",
       "    <tr>\n",
       "      <th>129010</th>\n",
       "      <td>0.000000</td>\n",
       "      <td>0.000000</td>\n",
       "      <td>0.000000</td>\n",
       "      <td>0.984861</td>\n",
       "      <td>0.000000</td>\n",
       "      <td>11.818334</td>\n",
       "      <td>15.757777</td>\n",
       "      <td>1.969722</td>\n",
       "      <td>0.000000</td>\n",
       "      <td>0.0</td>\n",
       "      <td>...</td>\n",
       "      <td>1.969722</td>\n",
       "      <td>0.000000</td>\n",
       "      <td>0.000000</td>\n",
       "      <td>0.000000</td>\n",
       "      <td>4.924305</td>\n",
       "      <td>0.000000</td>\n",
       "      <td>0.984861</td>\n",
       "      <td>0.000000</td>\n",
       "      <td>4.924305</td>\n",
       "      <td>4594.0</td>\n",
       "    </tr>\n",
       "    <tr>\n",
       "      <th>129012</th>\n",
       "      <td>0.000000</td>\n",
       "      <td>0.000000</td>\n",
       "      <td>0.000000</td>\n",
       "      <td>0.000000</td>\n",
       "      <td>0.000000</td>\n",
       "      <td>13.491501</td>\n",
       "      <td>13.491501</td>\n",
       "      <td>0.000000</td>\n",
       "      <td>0.000000</td>\n",
       "      <td>0.0</td>\n",
       "      <td>...</td>\n",
       "      <td>1.686438</td>\n",
       "      <td>0.000000</td>\n",
       "      <td>0.000000</td>\n",
       "      <td>5.059313</td>\n",
       "      <td>11.805063</td>\n",
       "      <td>1.686438</td>\n",
       "      <td>0.000000</td>\n",
       "      <td>0.000000</td>\n",
       "      <td>0.000000</td>\n",
       "      <td>4904.0</td>\n",
       "    </tr>\n",
       "    <tr>\n",
       "      <th>130495</th>\n",
       "      <td>0.000000</td>\n",
       "      <td>0.000000</td>\n",
       "      <td>0.000000</td>\n",
       "      <td>3.886700</td>\n",
       "      <td>0.000000</td>\n",
       "      <td>23.320198</td>\n",
       "      <td>20.729065</td>\n",
       "      <td>3.886700</td>\n",
       "      <td>0.000000</td>\n",
       "      <td>0.0</td>\n",
       "      <td>...</td>\n",
       "      <td>3.886700</td>\n",
       "      <td>0.000000</td>\n",
       "      <td>0.000000</td>\n",
       "      <td>2.591133</td>\n",
       "      <td>3.886700</td>\n",
       "      <td>1.295567</td>\n",
       "      <td>0.000000</td>\n",
       "      <td>0.000000</td>\n",
       "      <td>33.684731</td>\n",
       "      <td>2224.0</td>\n",
       "    </tr>\n",
       "    <tr>\n",
       "      <th>130659</th>\n",
       "      <td>0.000000</td>\n",
       "      <td>0.000000</td>\n",
       "      <td>0.000000</td>\n",
       "      <td>0.000000</td>\n",
       "      <td>0.000000</td>\n",
       "      <td>5.753662</td>\n",
       "      <td>23.014648</td>\n",
       "      <td>1.917887</td>\n",
       "      <td>0.000000</td>\n",
       "      <td>0.0</td>\n",
       "      <td>...</td>\n",
       "      <td>3.835775</td>\n",
       "      <td>0.000000</td>\n",
       "      <td>0.000000</td>\n",
       "      <td>0.000000</td>\n",
       "      <td>0.000000</td>\n",
       "      <td>0.000000</td>\n",
       "      <td>0.000000</td>\n",
       "      <td>0.000000</td>\n",
       "      <td>0.000000</td>\n",
       "      <td>4594.0</td>\n",
       "    </tr>\n",
       "  </tbody>\n",
       "</table>\n",
       "<p>7381 rows × 493 columns</p>\n",
       "</div>"
      ],
      "text/plain": [
       "             651       731      1623      1809      2029       2112  \\\n",
       "2       0.000000  0.000000  0.481799  0.963598  0.000000  15.417568   \n",
       "15      0.377392  0.000000  0.000000  0.377392  0.000000   6.793063   \n",
       "16      0.000000  0.000000  0.000000  1.129807  0.564904   7.343748   \n",
       "25      0.178162  0.178162  0.000000  0.178162  0.712650   6.057524   \n",
       "30      0.000000  0.843960  0.000000  0.843960  0.000000  24.474852   \n",
       "...          ...       ...       ...       ...       ...        ...   \n",
       "128665  1.512743  0.000000  1.512743  0.000000  0.000000  34.793079   \n",
       "129010  0.000000  0.000000  0.000000  0.984861  0.000000  11.818334   \n",
       "129012  0.000000  0.000000  0.000000  0.000000  0.000000  13.491501   \n",
       "130495  0.000000  0.000000  0.000000  3.886700  0.000000  23.320198   \n",
       "130659  0.000000  0.000000  0.000000  0.000000  0.000000   5.753662   \n",
       "\n",
       "             2115      2124      2185  2247  ...     23833     23885  \\\n",
       "2       13.008573  0.481799  0.000000   0.0  ...  3.854392  0.481799   \n",
       "15      10.189594  0.377392  0.000000   0.0  ...  0.377392  0.377392   \n",
       "16      36.718739  0.564904  0.000000   0.0  ...  0.564904  0.000000   \n",
       "25       8.551798  0.890812  0.000000   0.0  ...  0.000000  0.534487   \n",
       "30      10.127525  0.843960  1.687921   0.0  ...  3.375842  2.531881   \n",
       "...           ...       ...       ...   ...  ...       ...       ...   \n",
       "128665  34.793079  1.512743  0.000000   0.0  ...  1.512743  0.000000   \n",
       "129010  15.757777  1.969722  0.000000   0.0  ...  1.969722  0.000000   \n",
       "129012  13.491501  0.000000  0.000000   0.0  ...  1.686438  0.000000   \n",
       "130495  20.729065  3.886700  0.000000   0.0  ...  3.886700  0.000000   \n",
       "130659  23.014648  1.917887  0.000000   0.0  ...  3.835775  0.000000   \n",
       "\n",
       "           24054     24055      24078     24372     24416     24504  \\\n",
       "2       0.481799  0.481799   7.226985  0.481799  0.481799  0.481799   \n",
       "15      0.000000  0.000000   1.132177  0.000000  0.754785  0.000000   \n",
       "16      0.000000  0.000000   1.129807  0.000000  0.000000  0.000000   \n",
       "25      0.000000  0.534487   1.068975  0.178162  0.712650  0.000000   \n",
       "30      5.063763  1.687921  19.411089  0.843960  0.000000  2.531881   \n",
       "...          ...       ...        ...       ...       ...       ...   \n",
       "128665  0.000000  3.025485  18.152910  3.025485  0.000000  0.000000   \n",
       "129010  0.000000  0.000000   4.924305  0.000000  0.984861  0.000000   \n",
       "129012  0.000000  5.059313  11.805063  1.686438  0.000000  0.000000   \n",
       "130495  0.000000  2.591133   3.886700  1.295567  0.000000  0.000000   \n",
       "130659  0.000000  0.000000   0.000000  0.000000  0.000000  0.000000   \n",
       "\n",
       "            24507  clone_idx  \n",
       "2        4.336191      394.0  \n",
       "15       2.641747     3529.0  \n",
       "16       0.000000     5725.0  \n",
       "25       0.534487     3438.0  \n",
       "30       7.595644     3887.0  \n",
       "...           ...        ...  \n",
       "128665  10.589197     2247.0  \n",
       "129010   4.924305     4594.0  \n",
       "129012   0.000000     4904.0  \n",
       "130495  33.684731     2224.0  \n",
       "130659   0.000000     4594.0  \n",
       "\n",
       "[7381 rows x 493 columns]"
      ]
     },
     "execution_count": 404,
     "metadata": {},
     "output_type": "execute_result"
    }
   ],
   "source": [
    "df_clone"
   ]
  },
  {
   "cell_type": "code",
   "execution_count": 405,
   "id": "78abc921-cbab-4449-b9d2-447bad321387",
   "metadata": {},
   "outputs": [],
   "source": [
    "df_clone."
   ]
  },
  {
   "cell_type": "code",
   "execution_count": 384,
   "id": "c1ba5abf-d594-4377-acd8-e148b599b765",
   "metadata": {},
   "outputs": [],
   "source": [
    "two_clones = df[np.logical_or(df.obs.clone_idx==df.obs.clone_idx[0], df.obs.clone_idx == 3628)]"
   ]
  },
  {
   "cell_type": "code",
   "execution_count": 369,
   "id": "0d35ef95-e6fb-423c-a0a2-0377d1398a41",
   "metadata": {},
   "outputs": [
    {
     "data": {
      "text/plain": [
       "{394.0}"
      ]
     },
     "execution_count": 369,
     "metadata": {},
     "output_type": "execute_result"
    }
   ],
   "source": [
    "set(single_clone.obs.clone_idx).difference({})"
   ]
  },
  {
   "cell_type": "code",
   "execution_count": 412,
   "id": "a23ebe30-26a9-4bbf-a61e-571e42aa50e0",
   "metadata": {},
   "outputs": [
    {
     "data": {
      "text/plain": [
       "True"
      ]
     },
     "execution_count": 412,
     "metadata": {},
     "output_type": "execute_result"
    }
   ],
   "source": [
    "\"Myc\" in df.var.gene_id.tolist()"
   ]
  },
  {
   "cell_type": "code",
   "execution_count": 416,
   "id": "f512b227-7e0a-46a4-967e-4faa210ea3eb",
   "metadata": {},
   "outputs": [
    {
     "data": {
      "text/plain": [
       "15353    Myc\n",
       "Name: gene_id, dtype: object"
      ]
     },
     "execution_count": 416,
     "metadata": {},
     "output_type": "execute_result"
    }
   ],
   "source": [
    "df.var.gene_id[df.var.gene_id == 'Myc']"
   ]
  },
  {
   "cell_type": "code",
   "execution_count": 420,
   "id": "1963f600-13eb-41f8-8124-9ad41f86615a",
   "metadata": {},
   "outputs": [
    {
     "data": {
      "text/plain": [
       "True"
      ]
     },
     "execution_count": 420,
     "metadata": {},
     "output_type": "execute_result"
    }
   ],
   "source": [
    "'15353' in df_clone.columns"
   ]
  },
  {
   "cell_type": "code",
   "execution_count": 418,
   "id": "c06c6d36-5c8e-46e7-970e-82debecaff86",
   "metadata": {},
   "outputs": [
    {
     "data": {
      "text/plain": [
       "Index(['651', '731', '1623', '1809', '2029', '2112', '2115', '2124', '2185',\n",
       "       '2247',\n",
       "       ...\n",
       "       '23787', '23833', '23885', '24054', '24055', '24078', '24372', '24416',\n",
       "       '24504', '24507'],\n",
       "      dtype='object', length=492)"
      ]
     },
     "execution_count": 418,
     "metadata": {},
     "output_type": "execute_result"
    }
   ],
   "source": [
    "df.to_df().columns"
   ]
  },
  {
   "cell_type": "code",
   "execution_count": null,
   "id": "609fda89-a841-409e-a99c-422385dec94f",
   "metadata": {},
   "outputs": [],
   "source": []
  }
 ],
 "metadata": {
  "kernelspec": {
   "display_name": "Python 3",
   "language": "python",
   "name": "python3"
  },
  "language_info": {
   "codemirror_mode": {
    "name": "ipython",
    "version": 3
   },
   "file_extension": ".py",
   "mimetype": "text/x-python",
   "name": "python",
   "nbconvert_exporter": "python",
   "pygments_lexer": "ipython3",
   "version": "3.8.8"
  }
 },
 "nbformat": 4,
 "nbformat_minor": 5
}
