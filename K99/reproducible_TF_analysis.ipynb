{
 "cells": [
  {
   "cell_type": "markdown",
   "id": "27006242-9c9f-4511-9838-cf39705bac5c",
   "metadata": {},
   "source": [
    "Reproducibility notebook for preliminary analysis\n",
    "=\n",
    "This notebook accompanies TF_target_cause_effect.ipynb (in the same directory). I take the analysis I did there and make it as reproducible as possible. This means packaging analysis into functions. For example, after producing the differential expression of Myc heatmap, we might ask \"okay, is there just something weird going on with this clone that has a stripe, indicating a very different Myc profile?\" One basic check would be to produce that heatmap for other genes and see if the same clone or different clones have stripes. Because gene counts are normalized in each cell, it seems unlikely that the same clone will have a stripe for many different genes, but still helpful to know what's going on. Also, this will make it easier to rerun this analysis when we get new data/new clustering. "
   ]
  },
  {
   "cell_type": "code",
   "execution_count": 1,
   "id": "a3da6d89-c4ba-4b3e-a2d0-3e1dc2e37a47",
   "metadata": {},
   "outputs": [],
   "source": [
    "import pandas as pd\n",
    "import numpy as np\n",
    "import scanpy\n",
    "from collections import Counter\n",
    "from matplotlib import pyplot as plt\n",
    "from scipy import special\n",
    "from scipy import stats"
   ]
  },
  {
   "cell_type": "code",
   "execution_count": 424,
   "id": "2406166f-ad77-412e-af52-7b489d5f072c",
   "metadata": {},
   "outputs": [],
   "source": [
    "ann_data = scanpy.read_h5ad('preprocessed_adata/Weinreb2020.adata.h5ad')"
   ]
  },
  {
   "cell_type": "code",
   "execution_count": 2,
   "id": "8d784b80-be7c-4982-98d5-b37394833671",
   "metadata": {},
   "outputs": [],
   "source": [
    "def filter_for_top_clones(data, n=100):\n",
    "    c = Counter(data.obs['clone_idx'].dropna().tolist())\n",
    "    topn_clones = [clone[0] for clone in c.most_common(n)]\n",
    "    return data[data.obs['clone_idx'].isin(top100_clones)].copy()"
   ]
  },
  {
   "cell_type": "code",
   "execution_count": 3,
   "id": "7e0c535e-5c9b-4b24-89ca-5b6f2506b8bc",
   "metadata": {
    "tags": []
   },
   "outputs": [],
   "source": [
    "def make_pairwise_Wasserstein_distances(data, gene_id):\n",
    "    tuples = []\n",
    "    for clone1 in set(myc.obs.clone_idx):\n",
    "        print(clone1)\n",
    "        for clone2 in set(myc.obs.clone_idx):\n",
    "            myc1 = myc[myc.obs.clone_idx == clone1, :]\n",
    "            myc2 = myc[myc.obs.clone_idx == clone2, :]\n",
    "            wd = stats.wasserstein_distance(myc1.to_df()[myc_id], myc2.to_df()[myc_id])\n",
    "            tuples.append([clone1, clone2, wd])\n",
    "\n",
    "    df = pd.DataFrame(tuples, columns=['clone1', 'clone2', 'wd'])\n",
    "    return df"
   ]
  },
  {
   "cell_type": "code",
   "execution_count": null,
   "id": "5a2cc56b-5ff6-44ea-8a63-709c4918e437",
   "metadata": {},
   "outputs": [],
   "source": []
  }
 ],
 "metadata": {
  "kernelspec": {
   "display_name": "Python 3",
   "language": "python",
   "name": "python3"
  },
  "language_info": {
   "codemirror_mode": {
    "name": "ipython",
    "version": 3
   },
   "file_extension": ".py",
   "mimetype": "text/x-python",
   "name": "python",
   "nbconvert_exporter": "python",
   "pygments_lexer": "ipython3",
   "version": "3.8.8"
  }
 },
 "nbformat": 4,
 "nbformat_minor": 5
}
